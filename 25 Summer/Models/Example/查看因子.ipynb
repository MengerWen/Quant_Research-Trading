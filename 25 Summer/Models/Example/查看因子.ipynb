{
 "cells": [
  {
   "cell_type": "markdown",
   "id": "92ede3ff",
   "metadata": {},
   "source": [
    "# 查看量化因子数据内容\n",
    "\n",
    "这个Jupyter Notebook程序用于加载并初步分析公司服务器上的量化因子数据文件（`.pkl`格式）。\n",
    "你可以通过运行不同的代码块来了解数据的结构、包含的因子以及它们的基本统计信息。"
   ]
  },
  {
   "cell_type": "markdown",
   "id": "3345bb4a",
   "metadata": {},
   "source": [
    "## 1. 导入必要的库\n",
    "\n",
    "首先，我们需要导入 `pandas` 库来处理数据，以及 `os` 库来处理文件路径。"
   ]
  },
  {
   "cell_type": "code",
   "execution_count": 1,
   "id": "bf021061",
   "metadata": {},
   "outputs": [],
   "source": [
    "import pandas as pd\n",
    "import os"
   ]
  },
  {
   "cell_type": "markdown",
   "id": "a40c4c25",
   "metadata": {},
   "source": [
    "## 2. 定义文件路径并加载数据\n",
    "\n",
    "在这里，我们指定了因子数据文件在服务器上的路径和文件名。\n",
    "**请务必确认 `factor_data_path` 和 `file_name` 与你实际的文件位置和名称一致。**\n",
    "然后，程序会尝试加载这个 `.pkl` 文件。"
   ]
  },
  {
   "cell_type": "code",
   "execution_count": 2,
   "id": "1631ff48",
   "metadata": {},
   "outputs": [
    {
     "name": "stdout",
     "output_type": "stream",
     "text": [
      "尝试加载文件: /public/data/factor_data/BTCUSDT_15m_2020_2025_factor_data.pkl\n",
      "\n",
      "文件加载成功！以下是数据的一些基本信息：\n"
     ]
    }
   ],
   "source": [
    "# 定义因子数据文件的路径和文件名\n",
    "# 请确保这个路径与你在服务器上找到的路径一致\n",
    "factor_data_path = '/public/data/factor_data'\n",
    "file_name = 'BTCUSDT_15m_2020_2025_factor_data.pkl'\n",
    "\n",
    "# 构建完整的文件路径\n",
    "full_file_path = os.path.join(factor_data_path, file_name)\n",
    "\n",
    "print(f\"尝试加载文件: {full_file_path}\")\n",
    "\n",
    "try:\n",
    "    # 使用 pandas.read_pickle 加载 .pkl 文件\n",
    "    data = pd.read_pickle(full_file_path)\n",
    "\n",
    "    print(\"\\n文件加载成功！以下是数据的一些基本信息：\")\n",
    "\n",
    "except FileNotFoundError:\n",
    "    print(f\"错误: 文件 '{full_file_path}' 未找到。请检查路径和文件名是否正确。\")\n",
    "except Exception as e:\n",
    "    print(f\"加载文件时发生错误: {e}\")"
   ]
  },
  {
   "cell_type": "markdown",
   "id": "1a39c644",
   "metadata": {},
   "source": [
    "## 3. 初步数据概览\n",
    "\n",
    "文件加载成功后，我们可以先查看数据的前几行，了解整体结构，以及所有列的名称。"
   ]
  },
  {
   "cell_type": "code",
   "execution_count": 3,
   "id": "475d2d40",
   "metadata": {},
   "outputs": [
    {
     "name": "stdout",
     "output_type": "stream",
     "text": [
      "\n",
      "--- 数据前5行 (data.head()) ---\n",
      "                         open_time      open      high       low     close  \\\n",
      "open_time                                                                    \n",
      "2021-10-01 00:00:00  1633046400000  43799.49  43968.00  43694.42  43732.84   \n",
      "2021-10-01 00:15:00  1633047300000  43732.84  43872.47  43662.01  43845.90   \n",
      "2021-10-01 00:30:00  1633048200000  43845.95  44043.22  43811.40  43864.44   \n",
      "2021-10-01 00:45:00  1633049100000  43863.97  43874.58  43637.43  43672.26   \n",
      "2021-10-01 01:00:00  1633050000000  43671.50  43672.82  43401.99  43477.34   \n",
      "\n",
      "                       volume     close_time      turnover  trade_count  \\\n",
      "open_time                                                                 \n",
      "2021-10-01 00:00:00  5790.577  1633047299999  2.538197e+08        48953   \n",
      "2021-10-01 00:15:00  2413.893  1633048199999  1.056570e+08        22457   \n",
      "2021-10-01 00:30:00  5499.229  1633049099999  2.415322e+08        37929   \n",
      "2021-10-01 00:45:00  3688.510  1633049999999  1.612908e+08        28019   \n",
      "2021-10-01 01:00:00  4282.694  1633050899999  1.863426e+08        43148   \n",
      "\n",
      "                     taker_buy_volume  ...  c_hide_023  c_hide_024  \\\n",
      "open_time                              ...                           \n",
      "2021-10-01 00:00:00          2704.237  ...    0.004705    0.018760   \n",
      "2021-10-01 00:15:00          1400.459  ...    0.003686    0.016750   \n",
      "2021-10-01 00:30:00          2996.095  ...    0.000552    0.011764   \n",
      "2021-10-01 00:45:00          1647.922  ...    0.006883    0.018551   \n",
      "2021-10-01 01:00:00          1881.401  ...    0.002219    0.012635   \n",
      "\n",
      "                     c_hide_025  c_hide_026  c_hide_027  c_hide_028  \\\n",
      "open_time                                                             \n",
      "2021-10-01 00:00:00    0.011092    0.004296    0.002059    0.002339   \n",
      "2021-10-01 00:15:00    0.011413    0.012785    0.014636    0.011267   \n",
      "2021-10-01 00:30:00    0.013667    0.009763    0.008648    0.006420   \n",
      "2021-10-01 00:45:00    0.015827    0.009831    0.006851    0.008714   \n",
      "2021-10-01 01:00:00    0.012551    0.004632    0.008573    0.007457   \n",
      "\n",
      "                     c_hide_029  c_hide_030  c_hide_031  c_hide_032  \n",
      "open_time                                                            \n",
      "2021-10-01 00:00:00    0.001056    0.007033    0.016378    0.008728  \n",
      "2021-10-01 00:15:00    0.012704    0.014911    0.005295    0.000017  \n",
      "2021-10-01 00:30:00    0.005555    0.005871    0.005268    0.007159  \n",
      "2021-10-01 00:45:00    0.009877    0.001891    0.009675    0.006975  \n",
      "2021-10-01 01:00:00    0.005805    0.005254    0.005084    0.005001  \n",
      "\n",
      "[5 rows x 141 columns]\n",
      "\n",
      "--- 所有列名 (data.columns) ---\n",
      "['open_time', 'open', 'high', 'low', 'close', 'volume', 'close_time', 'turnover', 'trade_count', 'taker_buy_volume', 'taker_buy_turnover', 'ret_stc_sig_price', 'ret_hv_ratio_signals', 'ret_td_signals', 'ret_ao_signals', 'ret_ena_signals', 'ret_williams_r_sig_price', 'ret_momentum_sig_price', 'ret_kc_strategy', 'ret_bollinger_rsi_signals', 'ret_macd_sig_price', 'ret_ma_arrangement_sig', 'ret_ma20_ma120_cross_sig_price', 'ret_rsi_ma120_cross_sig_price', 'ret_ma120_macd_1_cross_sig_price', 'ret_ma120_bolling_cross_sig_price', 'ret_ma120_cci_cross_sig_price', 'ret_macd_02_cross_sig_price', 'ret_ma120_macd_02_cross_sig_price', 'ret_cci_fibonacci_signals', 'ret_ma20_volume_cross_signals', 'ret_ma20_rsi_macd_cross_sig_price', 'ret_ma50_cross_sig_price', 'ret_ma_bbi_rsi_sig_price', 'ret_dc_bbi_cross_sig_price', 'ret_ma_cci_sig', 'ret_ma_vol_cci_sig', 'ret_ma_short_long_cross_sig_price', 'ret_ma_atr_cross_sig_price', 'ret_dpo_ma_cross_sig_price', 'ret_po_signals', 'ret_rma_cross_sig_price', 'ret_ma120_bbi_signals', 'ret_skdj_sig_price', 'ret_vao_signals', 'ret_wma_signals', 'ret_rsi_bb_ma_signal', 'ret_macd_cross_signal', 'ret_rsi_boll_sig', 'ret_mfi_sig_price', 'c_chu001', 'c_chu002', 'c_chu003', 'c_chu004', 'c_chu005', 'c_chu006', 'c_chu007', 'c_chu008', 'c_chu009', 'c_chu010', 'c_chu011', 'c_chu012', 'c_chu013', 'c_chu014', 'c_chu015', 'c_chu016', 'c_chu017', 'c_chu018', 'c_chu019', 'c_chu020', 'c_chu021', 'c_chu022', 'c_chu023', 'c_chu024', 'c_chu025', 'c_chu026', 'c_chu028', 'c_chu029', 'c_chu030', 'c_chu031', 'c_chu032', 'c_chu033', 'c_chu034', 'c_chu037', 'c_chu038', 'c_chu039', 'c_chu040', 'c_chu041', 'c_chu042', 'c_chu043', 'c_chu044', 'c_chu045', 'c_chu046', 'c_chu047', 'c_chu048', 'c_chu049', 'c_chu050', 'c_chu051', 'c_chu052', 'c_chu053', 'c_chu054', 'c_chu055', 'c_chu056', 'c_chu057', 'c_chu058', 'c_chu059', 'c_chu060', 'c_chu061', 'c_chu062', 'c_hide_001', 'c_hide_002', 'c_hide_003', 'c_hide_004', 'c_hide_005', 'c_hide_006', 'c_hide_007', 'c_hide_008', 'c_hide_009', 'c_hide_010', 'c_hide_011', 'c_hide_012', 'c_hide_013', 'c_hide_014', 'c_hide_015', 'c_hide_016', 'c_hide_017', 'c_hide_018', 'c_hide_019', 'c_hide_020', 'c_hide_021', 'c_hide_022', 'c_hide_023', 'c_hide_024', 'c_hide_025', 'c_hide_026', 'c_hide_027', 'c_hide_028', 'c_hide_029', 'c_hide_030', 'c_hide_031', 'c_hide_032']\n"
     ]
    }
   ],
   "source": [
    "if 'data' in locals(): # 确保数据已成功加载\n",
    "    # 1. 查看数据的前5行，了解整体结构\n",
    "    print(\"\\n--- 数据前5行 (data.head()) ---\")\n",
    "    print(data.head())\n",
    "\n",
    "    # 2. 查看数据的列名，这些列名就是因子和原始数据（如'close', 'open'等）\n",
    "    print(\"\\n--- 所有列名 (data.columns) ---\")\n",
    "    print(data.columns.tolist())\n",
    "else:\n",
    "    print(\"数据未成功加载，无法进行初步概览。\")"
   ]
  },
  {
   "cell_type": "markdown",
   "id": "98cd8aac",
   "metadata": {},
   "source": [
    "## 4. 查看数据基本统计信息\n",
    "\n",
    "这一步可以帮助我们了解因子的数值分布（如均值、标准差、最小值、最大值等）。\n",
    "为了避免输出过长，这里默认只展示原始程序中使用的部分因子以及 `close` 和 `target` 列的统计信息。\n",
    "你可以根据需要调整 `data[['...'选择的列]]` 来查看其他列的统计信息。"
   ]
  },
  {
   "cell_type": "code",
   "execution_count": 4,
   "id": "7e0ddb48",
   "metadata": {},
   "outputs": [
    {
     "name": "stdout",
     "output_type": "stream",
     "text": [
      "\n",
      "--- 数据基本统计信息 (data.describe()) ---\n",
      "            c_chu037       c_chu038       c_chu050      c_chu051  \\\n",
      "count  128447.000000  128448.000000  128448.000000  1.284480e+05   \n",
      "mean        0.574749     381.217293      41.338781  5.537084e-02   \n",
      "std        12.090122     914.377443       7.217532  7.276333e-02   \n",
      "min         0.000000       0.000000      16.166242  6.937664e-07   \n",
      "25%         0.017731      46.926634      36.355084  1.363680e-02   \n",
      "50%         0.059436     126.738018      41.076914  3.226977e-02   \n",
      "75%         0.188994     342.997581      46.016098  6.780741e-02   \n",
      "max      1615.789474   31514.814446      86.842105  2.176733e+00   \n",
      "\n",
      "               close       c_chu039      c_chu040       c_chu041  \\\n",
      "count  128448.000000  128427.000000  1.284480e+05  128448.000000   \n",
      "mean    47955.835964    5627.670413  3.250137e-04    8833.248960   \n",
      "std     25373.877523    8540.765970  3.979754e-04   14906.968408   \n",
      "min     15637.900000       0.040034  1.153809e-10       0.025000   \n",
      "25%     26752.600000    1202.752250  8.919495e-05    1672.827750   \n",
      "50%     42026.410000    2936.368785  2.067393e-04    4224.125000   \n",
      "75%     64422.000000    6565.984780  4.132468e-04    9814.756250   \n",
      "max    111845.700000  280300.056851  1.315596e-02  397041.371000   \n",
      "\n",
      "           c_chu042       c_chu043      c_chu044      c_chu045      c_chu046  \\\n",
      "count  1.284480e+05  128448.000000  1.284480e+05  1.284270e+05  1.284480e+05   \n",
      "mean   2.631144e-03     667.745191  9.814062e+05  1.046148e+08  2.640171e-07   \n",
      "std    3.443578e-03    1067.370840  1.090891e+07  6.503973e+08  1.270360e-06   \n",
      "min    1.705833e-08       0.013287  0.000000e+00  1.602725e-03  1.331275e-20   \n",
      "25%    6.433559e-04     148.134264  2.202109e+03  1.446613e+06  7.955739e-09   \n",
      "50%    1.532653e-03     348.506113  1.606253e+04  8.622262e+06  4.274113e-08   \n",
      "75%    3.233816e-03     764.165321  1.176473e+05  4.311216e+07  1.707730e-07   \n",
      "max    1.107147e-01   36718.887783  9.931835e+08  7.856812e+10  1.730793e-04   \n",
      "\n",
      "            c_chu047      c_chu048      c_chu049  \n",
      "count  128448.000000  1.284480e+05  1.284480e+05  \n",
      "mean     8833.248960  1.878105e-05  1.585155e+06  \n",
      "std     14906.968408  8.726231e-05  1.202624e+07  \n",
      "min         0.025000  2.909865e-16  1.765564e-04  \n",
      "25%      1672.827750  4.139068e-07  2.194376e+04  \n",
      "50%      4224.125000  2.349024e-06  1.214565e+05  \n",
      "75%      9814.756250  1.045757e-05  5.839486e+05  \n",
      "max    397041.371000  1.225774e-02  1.348277e+09  \n"
     ]
    }
   ],
   "source": [
    "if 'data' in locals():\n",
    "    print(\"\\n--- 数据基本统计信息 (data.describe()) ---\")\n",
    "    # 原始程序中选定的因子范围\n",
    "    selected_factors_range = [f'c_chu0{i}' for i in range(37,52)]\n",
    "    # 尝试选择这些因子以及 'close' 和 'target' 列进行描述性统计\n",
    "    cols_to_describe = []\n",
    "    for col in ['c_chu037', 'c_chu038', 'c_chu050', 'c_chu051', 'close', 'target'] + selected_factors_range:\n",
    "        if col in data.columns and col not in cols_to_describe: # 避免重复添加\n",
    "            cols_to_describe.append(col)\n",
    "\n",
    "    if cols_to_describe:\n",
    "        print(data[cols_to_describe].describe())\n",
    "    else:\n",
    "        print(data.describe()) # 如果特定因子不存在，则打印所有列的统计信息\n",
    "else:\n",
    "    print(\"数据未成功加载，无法查看统计信息。\")"
   ]
  },
  {
   "cell_type": "markdown",
   "id": "302a8adc",
   "metadata": {},
   "source": [
    "## 5. 查看特定因子的详细内容\n",
    "\n",
    "你可以指定任何你想深入了解的因子名称，来查看它的前几个值和独立的统计信息。"
   ]
  },
  {
   "cell_type": "code",
   "execution_count": 5,
   "id": "b00aa7c2",
   "metadata": {},
   "outputs": [
    {
     "name": "stdout",
     "output_type": "stream",
     "text": [
      "\n",
      "--- 因子 'c_chu037' 的前10个值 ---\n",
      "open_time\n",
      "2021-10-01 00:00:00    0.017220\n",
      "2021-10-01 00:15:00    0.033483\n",
      "2021-10-01 00:30:00    0.006009\n",
      "2021-10-01 00:45:00    0.106135\n",
      "2021-10-01 01:00:00    0.328047\n",
      "2021-10-01 01:15:00    0.047701\n",
      "2021-10-01 01:30:00    2.110639\n",
      "2021-10-01 01:45:00    0.127041\n",
      "2021-10-01 02:00:00    0.224630\n",
      "2021-10-01 02:15:00    0.101159\n",
      "Name: c_chu037, dtype: float64\n",
      "\n",
      "--- 因子 'c_chu037' 的统计信息 ---\n",
      "count    128447.000000\n",
      "mean          0.574749\n",
      "std          12.090122\n",
      "min           0.000000\n",
      "25%           0.017731\n",
      "50%           0.059436\n",
      "75%           0.188994\n",
      "max        1615.789474\n",
      "Name: c_chu037, dtype: float64\n"
     ]
    }
   ],
   "source": [
    "if 'data' in locals():\n",
    "    # 替换 'c_chu037' 为任何你想查看的因子名称\n",
    "    factor_to_inspect = 'c_chu037'\n",
    "\n",
    "    if factor_to_inspect in data.columns:\n",
    "        print(f\"\\n--- 因子 '{factor_to_inspect}' 的前10个值 ---\")\n",
    "        print(data[factor_to_inspect].head(10))\n",
    "\n",
    "        print(f\"\\n--- 因子 '{factor_to_inspect}' 的统计信息 ---\")\n",
    "        print(data[factor_to_inspect].describe())\n",
    "    else:\n",
    "        print(f\"\\n注意: 因子 '{factor_to_inspect}' 未在数据中找到。请检查列名。\")\n",
    "else:\n",
    "    print(\"数据未成功加载，无法查看特定因子内容。\")"
   ]
  },
  {
   "cell_type": "markdown",
   "id": "ac9b28ab",
   "metadata": {},
   "source": [
    "## 6. 确认原始程序中选定的因子\n",
    "\n",
    "这一步会列出原始模型程序中使用的所有因子，并检查它们是否都存在于当前加载的数据中。"
   ]
  },
  {
   "cell_type": "code",
   "execution_count": 6,
   "id": "bdec34f8",
   "metadata": {},
   "outputs": [
    {
     "name": "stdout",
     "output_type": "stream",
     "text": [
      "\n",
      "--- 原始程序中选定的因子列表 ---\n",
      "['c_chu037', 'c_chu038', 'c_chu039', 'c_chu040', 'c_chu041', 'c_chu042', 'c_chu043', 'c_chu044', 'c_chu045', 'c_chu046', 'c_chu047', 'c_chu048', 'c_chu049', 'c_chu050', 'c_chu051']\n",
      "\n",
      "所有选定因子都在数据中。\n"
     ]
    }
   ],
   "source": [
    "if 'data' in locals():\n",
    "    # 原始程序中使用的 selected_factors\n",
    "    selected_factors = [f'c_chu0{i}' for i in range(37,52)]\n",
    "    print(\"\\n--- 原始程序中选定的因子列表 ---\")\n",
    "    print(selected_factors)\n",
    "\n",
    "    # 检查这些因子是否都在数据中\n",
    "    missing_factors = [f for f in selected_factors if f not in data.columns]\n",
    "    if missing_factors:\n",
    "        print(f\"\\n警告: 以下选定因子在数据中缺失: {missing_factors}\")\n",
    "    else:\n",
    "        print(\"\\n所有选定因子都在数据中。\")\n",
    "else:\n",
    "    print(\"数据未成功加载，无法确认选定因子。\")"
   ]
  },
  {
   "cell_type": "markdown",
   "id": "7e47e7fe",
   "metadata": {},
   "source": [
    "## 7. 进一步分析建议 (可选)\n",
    "\n",
    "你可以取消注释下面的代码块，来进一步探索因子之间的相关性或它们的分布情况。\n",
    "这需要安装 `matplotlib` 和 `seaborn` 库 (`pip install matplotlib seaborn`)。"
   ]
  },
  {
   "cell_type": "code",
   "execution_count": 7,
   "id": "686f4e65",
   "metadata": {},
   "outputs": [],
   "source": [
    "# import matplotlib.pyplot as plt\n",
    "# import seaborn as sns\n",
    "\n",
    "# if 'data' in locals() and 'selected_factors' in locals() and all(f in data.columns for f in selected_factors):\n",
    "#     print(\"\\n--- 绘制选定因子的相关性热力图 (Heatmap) ---\")\n",
    "#     plt.figure(figsize=(12, 8))\n",
    "#     sns.heatmap(data[selected_factors].corr(), annot=True, cmap='coolwarm', fmt=\".2f\")\n",
    "#     plt.title('Selected Factors Correlation Matrix')\n",
    "#     plt.show()\n",
    "\n",
    "#     print(\"\\n--- 绘制因子 'c_chu037' 的分布直方图 ---\")\n",
    "#     plt.figure(figsize=(10, 6))\n",
    "#     sns.histplot(data['c_chu037'].dropna(), kde=True)\n",
    "#     plt.title('Distribution of Factor c_chu037')\n",
    "#     plt.xlabel('c_chu037 Value')\n",
    "#     plt.ylabel('Frequency')\n",
    "#     plt.show()\n",
    "# else:\n",
    "#     print(\"数据或选定因子未准备好，无法进行进一步可视化分析。\")"
   ]
  }
 ],
 "metadata": {
  "kernelspec": {
   "display_name": "cta_v1",
   "language": "python",
   "name": "python3"
  },
  "language_info": {
   "codemirror_mode": {
    "name": "ipython",
    "version": 3
   },
   "file_extension": ".py",
   "mimetype": "text/x-python",
   "name": "python",
   "nbconvert_exporter": "python",
   "pygments_lexer": "ipython3",
   "version": "3.11.13"
  }
 },
 "nbformat": 4,
 "nbformat_minor": 5
}
