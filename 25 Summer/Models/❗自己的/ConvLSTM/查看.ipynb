{
 "cells": [
  {
   "cell_type": "code",
   "execution_count": 1,
   "id": "a4ce9098",
   "metadata": {},
   "outputs": [],
   "source": [
    "import pickle\n",
    "import pandas as pd\n",
    "import numpy as np\n",
    "from pathlib import Path\n",
    "\n",
    "# 文件路径配置（根据您提供的路径信息）\n",
    "FILE_PATH = '/home/wj/Models/❗自己的/ConvLSTM/_test_backtest_intern.pkl'"
   ]
  },
  {
   "cell_type": "code",
   "execution_count": 2,
   "id": "2e2ce5cd",
   "metadata": {},
   "outputs": [
    {
     "name": "stdout",
     "output_type": "stream",
     "text": [
      "✅ File found (3011.60 KB)\n",
      "                     signal      close\n",
      "open_time                             \n",
      "2021-10-01 00:00:00       0   43732.84\n",
      "2021-10-01 00:15:00       0   43845.90\n",
      "2021-10-01 00:30:00       0   43864.44\n",
      "2021-10-01 00:45:00       0   43672.26\n",
      "2021-10-01 01:00:00       0   43477.34\n",
      "...                     ...        ...\n",
      "2025-05-30 22:45:00       0  103920.10\n",
      "2025-05-30 23:00:00       0  103981.20\n",
      "2025-05-30 23:15:00       0  103805.30\n",
      "2025-05-30 23:30:00       0  103756.10\n",
      "2025-05-30 23:45:00       0  103950.00\n",
      "\n",
      "[128448 rows x 2 columns]\n"
     ]
    }
   ],
   "source": [
    "file_path = Path(FILE_PATH)\n",
    "\n",
    "print(f\"✅ File found ({file_path.stat().st_size/1024:.2f} KB)\")\n",
    "\n",
    "with open(file_path, 'rb') as f:\n",
    "    data = pickle.load(f)\n",
    "\n",
    "print(data)"
   ]
  },
  {
   "cell_type": "code",
   "execution_count": 3,
   "id": "a1498153",
   "metadata": {},
   "outputs": [
    {
     "name": "stdout",
     "output_type": "stream",
     "text": [
      "         signal          close\n",
      "count  128448.0  128448.000000\n",
      "mean        0.0   47955.835964\n",
      "std         0.0   25373.877523\n",
      "min         0.0   15637.900000\n",
      "25%         0.0   26752.600000\n",
      "50%         0.0   42026.410000\n",
      "75%         0.0   64422.000000\n",
      "max         0.0  111845.700000\n"
     ]
    }
   ],
   "source": [
    "print(data.describe(include='all'))"
   ]
  }
 ],
 "metadata": {
  "kernelspec": {
   "display_name": "tensor_flow",
   "language": "python",
   "name": "python3"
  },
  "language_info": {
   "codemirror_mode": {
    "name": "ipython",
    "version": 3
   },
   "file_extension": ".py",
   "mimetype": "text/x-python",
   "name": "python",
   "nbconvert_exporter": "python",
   "pygments_lexer": "ipython3",
   "version": "3.11.13"
  }
 },
 "nbformat": 4,
 "nbformat_minor": 5
}
