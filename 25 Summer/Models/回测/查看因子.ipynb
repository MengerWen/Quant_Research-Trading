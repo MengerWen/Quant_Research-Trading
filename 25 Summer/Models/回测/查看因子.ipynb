{
 "cells": [
  {
   "cell_type": "code",
   "execution_count": 3,
   "id": "0660fba6",
   "metadata": {},
   "outputs": [],
   "source": [
    "import pickle\n",
    "import pandas as pd\n",
    "import numpy as np\n",
    "from pathlib import Path\n",
    "\n",
    "# 文件路径配置（根据您提供的路径信息）\n",
    "FILE_PATH = '/public/data/factor_data/BTCUSDT_15m_2020_2025_factor_data.pkl'"
   ]
  },
  {
   "cell_type": "code",
   "execution_count": 4,
   "id": "903b5ab2",
   "metadata": {},
   "outputs": [
    {
     "name": "stdout",
     "output_type": "stream",
     "text": [
      "✅ File found (142509.44 KB)\n",
      "                         open_time       open       high        low  \\\n",
      "open_time                                                             \n",
      "2021-10-01 00:00:00  1633046400000   43799.49   43968.00   43694.42   \n",
      "2021-10-01 00:15:00  1633047300000   43732.84   43872.47   43662.01   \n",
      "2021-10-01 00:30:00  1633048200000   43845.95   44043.22   43811.40   \n",
      "2021-10-01 00:45:00  1633049100000   43863.97   43874.58   43637.43   \n",
      "2021-10-01 01:00:00  1633050000000   43671.50   43672.82   43401.99   \n",
      "...                            ...        ...        ...        ...   \n",
      "2025-05-30 22:45:00  1748645100000  103942.30  104273.40  103920.00   \n",
      "2025-05-30 23:00:00  1748646000000  103920.00  104210.20  103698.60   \n",
      "2025-05-30 23:15:00  1748646900000  103981.20  104171.20  103605.60   \n",
      "2025-05-30 23:30:00  1748647800000  103805.40  103883.20  103555.00   \n",
      "2025-05-30 23:45:00  1748648700000  103756.20  104100.00  103756.20   \n",
      "\n",
      "                         close    volume     close_time      turnover  \\\n",
      "open_time                                                               \n",
      "2021-10-01 00:00:00   43732.84  5790.577  1633047299999  2.538197e+08   \n",
      "2021-10-01 00:15:00   43845.90  2413.893  1633048199999  1.056570e+08   \n",
      "2021-10-01 00:30:00   43864.44  5499.229  1633049099999  2.415322e+08   \n",
      "2021-10-01 00:45:00   43672.26  3688.510  1633049999999  1.612908e+08   \n",
      "2021-10-01 01:00:00   43477.34  4282.694  1633050899999  1.863426e+08   \n",
      "...                        ...       ...            ...           ...   \n",
      "2025-05-30 22:45:00  103920.10  1985.494  1748645999999  2.066350e+08   \n",
      "2025-05-30 23:00:00  103981.20  2466.206  1748646899999  2.564278e+08   \n",
      "2025-05-30 23:15:00  103805.30  2967.367  1748647799999  3.082754e+08   \n",
      "2025-05-30 23:30:00  103756.10  2731.237  1748648699999  2.833204e+08   \n",
      "2025-05-30 23:45:00  103950.00  1734.009  1748649599999  1.802481e+08   \n",
      "\n",
      "                     trade_count  taker_buy_volume  ...  c_hide_023  \\\n",
      "open_time                                           ...               \n",
      "2021-10-01 00:00:00        48953          2704.237  ...    0.004705   \n",
      "2021-10-01 00:15:00        22457          1400.459  ...    0.003686   \n",
      "2021-10-01 00:30:00        37929          2996.095  ...    0.000552   \n",
      "2021-10-01 00:45:00        28019          1647.922  ...    0.006883   \n",
      "2021-10-01 01:00:00        43148          1881.401  ...    0.002219   \n",
      "...                          ...               ...  ...         ...   \n",
      "2025-05-30 22:45:00        37288           952.520  ...    0.004282   \n",
      "2025-05-30 23:00:00        57184          1272.253  ...    0.003251   \n",
      "2025-05-30 23:15:00        67916          1309.956  ...    0.000918   \n",
      "2025-05-30 23:30:00        57298          1200.011  ...    0.002024   \n",
      "2025-05-30 23:45:00        44305           895.906  ...    0.008742   \n",
      "\n",
      "                     c_hide_024  c_hide_025  c_hide_026  c_hide_027  \\\n",
      "open_time                                                             \n",
      "2021-10-01 00:00:00    0.018760    0.011092    0.004296    0.002059   \n",
      "2021-10-01 00:15:00    0.016750    0.011413    0.012785    0.014636   \n",
      "2021-10-01 00:30:00    0.011764    0.013667    0.009763    0.008648   \n",
      "2021-10-01 00:45:00    0.018551    0.015827    0.009831    0.006851   \n",
      "2021-10-01 01:00:00    0.012635    0.012551    0.004632    0.008573   \n",
      "...                         ...         ...         ...         ...   \n",
      "2025-05-30 22:45:00    0.010458    0.003862    0.007904    0.001679   \n",
      "2025-05-30 23:00:00    0.010166    0.003437    0.008226    0.003319   \n",
      "2025-05-30 23:15:00    0.008680    0.005685    0.005910    0.006287   \n",
      "2025-05-30 23:30:00    0.008248    0.007652    0.007633    0.006519   \n",
      "2025-05-30 23:45:00    0.006705    0.011295    0.006318    0.004139   \n",
      "\n",
      "                     c_hide_028  c_hide_029  c_hide_030  c_hide_031  \\\n",
      "open_time                                                             \n",
      "2021-10-01 00:00:00    0.002339    0.001056    0.007033    0.016378   \n",
      "2021-10-01 00:15:00    0.011267    0.012704    0.014911    0.005295   \n",
      "2021-10-01 00:30:00    0.006420    0.005555    0.005871    0.005268   \n",
      "2021-10-01 00:45:00    0.008714    0.009877    0.001891    0.009675   \n",
      "2021-10-01 01:00:00    0.007457    0.005805    0.005254    0.005084   \n",
      "...                         ...         ...         ...         ...   \n",
      "2025-05-30 22:45:00    0.001643    0.003436    0.005932    0.008833   \n",
      "2025-05-30 23:00:00    0.001796    0.000946    0.005052    0.008388   \n",
      "2025-05-30 23:15:00    0.000072    0.000486    0.000846    0.008609   \n",
      "2025-05-30 23:30:00    0.001621    0.001244    0.000406    0.006640   \n",
      "2025-05-30 23:45:00    0.004516    0.003433    0.004266    0.002219   \n",
      "\n",
      "                     c_hide_032  \n",
      "open_time                        \n",
      "2021-10-01 00:00:00    0.008728  \n",
      "2021-10-01 00:15:00    0.000017  \n",
      "2021-10-01 00:30:00    0.007159  \n",
      "2021-10-01 00:45:00    0.006975  \n",
      "2021-10-01 01:00:00    0.005001  \n",
      "...                         ...  \n",
      "2025-05-30 22:45:00    0.002226  \n",
      "2025-05-30 23:00:00    0.001647  \n",
      "2025-05-30 23:15:00    0.005614  \n",
      "2025-05-30 23:30:00    0.006043  \n",
      "2025-05-30 23:45:00    0.006830  \n",
      "\n",
      "[128448 rows x 141 columns]\n"
     ]
    }
   ],
   "source": [
    "file_path = Path(FILE_PATH)\n",
    "\n",
    "print(f\"✅ File found ({file_path.stat().st_size/1024:.2f} KB)\")\n",
    "\n",
    "with open(file_path, 'rb') as f:\n",
    "    data = pickle.load(f)\n",
    "\n",
    "print(data)"
   ]
  },
  {
   "cell_type": "code",
   "execution_count": 5,
   "id": "b26698c4",
   "metadata": {},
   "outputs": [
    {
     "name": "stdout",
     "output_type": "stream",
     "text": [
      "Shape: (128448, 141)\n"
     ]
    }
   ],
   "source": [
    "print(f\"Shape: {data.shape}\")"
   ]
  },
  {
   "cell_type": "code",
   "execution_count": 6,
   "id": "6bb0dcb5",
   "metadata": {},
   "outputs": [
    {
     "name": "stdout",
     "output_type": "stream",
     "text": [
      "['open_time', 'open', 'high', 'low', 'close', 'volume', 'close_time', 'turnover', 'trade_count', 'taker_buy_volume', 'taker_buy_turnover', 'ret_stc_sig_price', 'ret_hv_ratio_signals', 'ret_td_signals', 'ret_ao_signals', 'ret_ena_signals', 'ret_williams_r_sig_price', 'ret_momentum_sig_price', 'ret_kc_strategy', 'ret_bollinger_rsi_signals', 'ret_macd_sig_price', 'ret_ma_arrangement_sig', 'ret_ma20_ma120_cross_sig_price', 'ret_rsi_ma120_cross_sig_price', 'ret_ma120_macd_1_cross_sig_price', 'ret_ma120_bolling_cross_sig_price', 'ret_ma120_cci_cross_sig_price', 'ret_macd_02_cross_sig_price', 'ret_ma120_macd_02_cross_sig_price', 'ret_cci_fibonacci_signals', 'ret_ma20_volume_cross_signals', 'ret_ma20_rsi_macd_cross_sig_price', 'ret_ma50_cross_sig_price', 'ret_ma_bbi_rsi_sig_price', 'ret_dc_bbi_cross_sig_price', 'ret_ma_cci_sig', 'ret_ma_vol_cci_sig', 'ret_ma_short_long_cross_sig_price', 'ret_ma_atr_cross_sig_price', 'ret_dpo_ma_cross_sig_price', 'ret_po_signals', 'ret_rma_cross_sig_price', 'ret_ma120_bbi_signals', 'ret_skdj_sig_price', 'ret_vao_signals', 'ret_wma_signals', 'ret_rsi_bb_ma_signal', 'ret_macd_cross_signal', 'ret_rsi_boll_sig', 'ret_mfi_sig_price', 'c_chu001', 'c_chu002', 'c_chu003', 'c_chu004', 'c_chu005', 'c_chu006', 'c_chu007', 'c_chu008', 'c_chu009', 'c_chu010', 'c_chu011', 'c_chu012', 'c_chu013', 'c_chu014', 'c_chu015', 'c_chu016', 'c_chu017', 'c_chu018', 'c_chu019', 'c_chu020', 'c_chu021', 'c_chu022', 'c_chu023', 'c_chu024', 'c_chu025', 'c_chu026', 'c_chu028', 'c_chu029', 'c_chu030', 'c_chu031', 'c_chu032', 'c_chu033', 'c_chu034', 'c_chu037', 'c_chu038', 'c_chu039', 'c_chu040', 'c_chu041', 'c_chu042', 'c_chu043', 'c_chu044', 'c_chu045', 'c_chu046', 'c_chu047', 'c_chu048', 'c_chu049', 'c_chu050', 'c_chu051', 'c_chu052', 'c_chu053', 'c_chu054', 'c_chu055', 'c_chu056', 'c_chu057', 'c_chu058', 'c_chu059', 'c_chu060', 'c_chu061', 'c_chu062', 'c_hide_001', 'c_hide_002', 'c_hide_003', 'c_hide_004', 'c_hide_005', 'c_hide_006', 'c_hide_007', 'c_hide_008', 'c_hide_009', 'c_hide_010', 'c_hide_011', 'c_hide_012', 'c_hide_013', 'c_hide_014', 'c_hide_015', 'c_hide_016', 'c_hide_017', 'c_hide_018', 'c_hide_019', 'c_hide_020', 'c_hide_021', 'c_hide_022', 'c_hide_023', 'c_hide_024', 'c_hide_025', 'c_hide_026', 'c_hide_027', 'c_hide_028', 'c_hide_029', 'c_hide_030', 'c_hide_031', 'c_hide_032']\n"
     ]
    }
   ],
   "source": [
    "print(data.columns.tolist())"
   ]
  },
  {
   "cell_type": "code",
   "execution_count": 7,
   "id": "9638613e",
   "metadata": {},
   "outputs": [
    {
     "name": "stdout",
     "output_type": "stream",
     "text": [
      "          open_time           open           high            low  \\\n",
      "count  1.284480e+05  128448.000000  128448.000000  128448.000000   \n",
      "mean   1.690848e+12   47955.371250   48046.775289   47862.112719   \n",
      "std    3.337190e+10   25373.399138   25420.034536   25325.987431   \n",
      "min    1.633046e+12   15637.900000   15700.000000   15443.200000   \n",
      "25%    1.661947e+12   26752.600000   26785.000000   26719.425000   \n",
      "50%    1.690848e+12   42026.355000   42120.000000   41930.750000   \n",
      "75%    1.719748e+12   64420.400000   64548.925000   64300.242500   \n",
      "max    1.748649e+12  111845.700000  111959.500000  111637.500000   \n",
      "\n",
      "               close         volume    close_time      turnover   trade_count  \\\n",
      "count  128448.000000  128448.000000  1.284480e+05  1.284480e+05  1.284480e+05   \n",
      "mean    47955.835964    3791.962733  1.690848e+12  1.532105e+08  3.785760e+04   \n",
      "std     25373.877523    5323.011875  3.337190e+10  2.019765e+08  3.932960e+04   \n",
      "min     15637.900000       0.000000  1.633047e+12  0.000000e+00  0.000000e+00   \n",
      "25%     26752.600000    1216.645000  1.661948e+12  5.256448e+07  1.626500e+04   \n",
      "50%     42026.410000    2182.442500  1.690848e+12  9.234132e+07  2.587150e+04   \n",
      "75%     64422.000000    4239.349500  1.719749e+12  1.732186e+08  4.443025e+04   \n",
      "max    111845.700000  171631.082000  1.748650e+12  5.073757e+09  1.067024e+06   \n",
      "\n",
      "       taker_buy_volume  ...     c_hide_023     c_hide_024     c_hide_025  \\\n",
      "count     128448.000000  ...  128448.000000  128448.000000  128448.000000   \n",
      "mean        1891.130696  ...       0.007047       0.009221       0.014259   \n",
      "std         2681.728947  ...       0.008631       0.010966       0.015811   \n",
      "min            0.000000  ...       0.000000       0.000000       0.000000   \n",
      "25%          592.136750  ...       0.001768       0.002270       0.003642   \n",
      "50%         1080.496500  ...       0.004206       0.005539       0.009086   \n",
      "75%         2116.515750  ...       0.008938       0.011965       0.019163   \n",
      "max        81146.124000  ...       0.142513       0.149861       0.189005   \n",
      "\n",
      "          c_hide_026     c_hide_027     c_hide_028     c_hide_029  \\\n",
      "count  128448.000000  128448.000000  128448.000000  128448.000000   \n",
      "mean        0.006796       0.006271       0.005696       0.004009   \n",
      "std         0.008379       0.007795       0.007143       0.005115   \n",
      "min         0.000000       0.000000       0.000000       0.000000   \n",
      "25%         0.001704       0.001592       0.001453       0.001054   \n",
      "50%         0.004066       0.003767       0.003434       0.002439   \n",
      "75%         0.008588       0.007874       0.007108       0.004978   \n",
      "max         0.164637       0.160129       0.167349       0.152258   \n",
      "\n",
      "          c_hide_030     c_hide_031     c_hide_032  \n",
      "count  128448.000000  128448.000000  128448.000000  \n",
      "mean        0.004009       0.007047       0.012747  \n",
      "std         0.005103       0.008631       0.014393  \n",
      "min         0.000000       0.000000       0.000000  \n",
      "25%         0.001054       0.001768       0.003191  \n",
      "50%         0.002440       0.004207       0.007981  \n",
      "75%         0.004979       0.008940       0.017013  \n",
      "max         0.132139       0.142513       0.172681  \n",
      "\n",
      "[8 rows x 141 columns]\n"
     ]
    }
   ],
   "source": [
    "print(data.describe(include='all'))"
   ]
  },
  {
   "cell_type": "code",
   "execution_count": 8,
   "id": "08d8fdeb",
   "metadata": {},
   "outputs": [
    {
     "ename": "KeyError",
     "evalue": "'signal'",
     "output_type": "error",
     "traceback": [
      "\u001b[31m---------------------------------------------------------------------------\u001b[39m",
      "\u001b[31mKeyError\u001b[39m                                  Traceback (most recent call last)",
      "\u001b[36mFile \u001b[39m\u001b[32m~/miniconda3/envs/cta_v1/lib/python3.11/site-packages/pandas/core/indexes/base.py:3802\u001b[39m, in \u001b[36mIndex.get_loc\u001b[39m\u001b[34m(self, key, method, tolerance)\u001b[39m\n\u001b[32m   3801\u001b[39m \u001b[38;5;28;01mtry\u001b[39;00m:\n\u001b[32m-> \u001b[39m\u001b[32m3802\u001b[39m     \u001b[38;5;28;01mreturn\u001b[39;00m \u001b[38;5;28;43mself\u001b[39;49m\u001b[43m.\u001b[49m\u001b[43m_engine\u001b[49m\u001b[43m.\u001b[49m\u001b[43mget_loc\u001b[49m\u001b[43m(\u001b[49m\u001b[43mcasted_key\u001b[49m\u001b[43m)\u001b[49m\n\u001b[32m   3803\u001b[39m \u001b[38;5;28;01mexcept\u001b[39;00m \u001b[38;5;167;01mKeyError\u001b[39;00m \u001b[38;5;28;01mas\u001b[39;00m err:\n",
      "\u001b[36mFile \u001b[39m\u001b[32m~/miniconda3/envs/cta_v1/lib/python3.11/site-packages/pandas/_libs/index.pyx:138\u001b[39m, in \u001b[36mpandas._libs.index.IndexEngine.get_loc\u001b[39m\u001b[34m()\u001b[39m\n",
      "\u001b[36mFile \u001b[39m\u001b[32m~/miniconda3/envs/cta_v1/lib/python3.11/site-packages/pandas/_libs/index.pyx:165\u001b[39m, in \u001b[36mpandas._libs.index.IndexEngine.get_loc\u001b[39m\u001b[34m()\u001b[39m\n",
      "\u001b[36mFile \u001b[39m\u001b[32mpandas/_libs/hashtable_class_helper.pxi:5745\u001b[39m, in \u001b[36mpandas._libs.hashtable.PyObjectHashTable.get_item\u001b[39m\u001b[34m()\u001b[39m\n",
      "\u001b[36mFile \u001b[39m\u001b[32mpandas/_libs/hashtable_class_helper.pxi:5753\u001b[39m, in \u001b[36mpandas._libs.hashtable.PyObjectHashTable.get_item\u001b[39m\u001b[34m()\u001b[39m\n",
      "\u001b[31mKeyError\u001b[39m: 'signal'",
      "\nThe above exception was the direct cause of the following exception:\n",
      "\u001b[31mKeyError\u001b[39m                                  Traceback (most recent call last)",
      "\u001b[36mCell\u001b[39m\u001b[36m \u001b[39m\u001b[32mIn[8]\u001b[39m\u001b[32m, line 1\u001b[39m\n\u001b[32m----> \u001b[39m\u001b[32m1\u001b[39m non_zero_signal_count = (\u001b[43mdata\u001b[49m\u001b[43m[\u001b[49m\u001b[33;43m'\u001b[39;49m\u001b[33;43msignal\u001b[39;49m\u001b[33;43m'\u001b[39;49m\u001b[43m]\u001b[49m != \u001b[32m0\u001b[39m).sum()\n\u001b[32m      2\u001b[39m \u001b[38;5;28mprint\u001b[39m(\u001b[33mf\u001b[39m\u001b[33m\"\u001b[39m\u001b[33m非0的\u001b[39m\u001b[33m'\u001b[39m\u001b[33msignal\u001b[39m\u001b[33m'\u001b[39m\u001b[33m条数: \u001b[39m\u001b[38;5;132;01m{\u001b[39;00mnon_zero_signal_count\u001b[38;5;132;01m}\u001b[39;00m\u001b[33m\"\u001b[39m)\n",
      "\u001b[36mFile \u001b[39m\u001b[32m~/miniconda3/envs/cta_v1/lib/python3.11/site-packages/pandas/core/frame.py:3807\u001b[39m, in \u001b[36mDataFrame.__getitem__\u001b[39m\u001b[34m(self, key)\u001b[39m\n\u001b[32m   3805\u001b[39m \u001b[38;5;28;01mif\u001b[39;00m \u001b[38;5;28mself\u001b[39m.columns.nlevels > \u001b[32m1\u001b[39m:\n\u001b[32m   3806\u001b[39m     \u001b[38;5;28;01mreturn\u001b[39;00m \u001b[38;5;28mself\u001b[39m._getitem_multilevel(key)\n\u001b[32m-> \u001b[39m\u001b[32m3807\u001b[39m indexer = \u001b[38;5;28;43mself\u001b[39;49m\u001b[43m.\u001b[49m\u001b[43mcolumns\u001b[49m\u001b[43m.\u001b[49m\u001b[43mget_loc\u001b[49m\u001b[43m(\u001b[49m\u001b[43mkey\u001b[49m\u001b[43m)\u001b[49m\n\u001b[32m   3808\u001b[39m \u001b[38;5;28;01mif\u001b[39;00m is_integer(indexer):\n\u001b[32m   3809\u001b[39m     indexer = [indexer]\n",
      "\u001b[36mFile \u001b[39m\u001b[32m~/miniconda3/envs/cta_v1/lib/python3.11/site-packages/pandas/core/indexes/base.py:3804\u001b[39m, in \u001b[36mIndex.get_loc\u001b[39m\u001b[34m(self, key, method, tolerance)\u001b[39m\n\u001b[32m   3802\u001b[39m     \u001b[38;5;28;01mreturn\u001b[39;00m \u001b[38;5;28mself\u001b[39m._engine.get_loc(casted_key)\n\u001b[32m   3803\u001b[39m \u001b[38;5;28;01mexcept\u001b[39;00m \u001b[38;5;167;01mKeyError\u001b[39;00m \u001b[38;5;28;01mas\u001b[39;00m err:\n\u001b[32m-> \u001b[39m\u001b[32m3804\u001b[39m     \u001b[38;5;28;01mraise\u001b[39;00m \u001b[38;5;167;01mKeyError\u001b[39;00m(key) \u001b[38;5;28;01mfrom\u001b[39;00m\u001b[38;5;250m \u001b[39m\u001b[34;01merr\u001b[39;00m\n\u001b[32m   3805\u001b[39m \u001b[38;5;28;01mexcept\u001b[39;00m \u001b[38;5;167;01mTypeError\u001b[39;00m:\n\u001b[32m   3806\u001b[39m     \u001b[38;5;66;03m# If we have a listlike key, _check_indexing_error will raise\u001b[39;00m\n\u001b[32m   3807\u001b[39m     \u001b[38;5;66;03m#  InvalidIndexError. Otherwise we fall through and re-raise\u001b[39;00m\n\u001b[32m   3808\u001b[39m     \u001b[38;5;66;03m#  the TypeError.\u001b[39;00m\n\u001b[32m   3809\u001b[39m     \u001b[38;5;28mself\u001b[39m._check_indexing_error(key)\n",
      "\u001b[31mKeyError\u001b[39m: 'signal'"
     ]
    }
   ],
   "source": [
    "non_zero_signal_count = (data['signal'] != 0).sum()\n",
    "print(f\"非0的'signal'条数: {non_zero_signal_count}\")"
   ]
  }
 ],
 "metadata": {
  "kernelspec": {
   "display_name": "cta_v1",
   "language": "python",
   "name": "python3"
  },
  "language_info": {
   "codemirror_mode": {
    "name": "ipython",
    "version": 3
   },
   "file_extension": ".py",
   "mimetype": "text/x-python",
   "name": "python",
   "nbconvert_exporter": "python",
   "pygments_lexer": "ipython3",
   "version": "3.11.13"
  }
 },
 "nbformat": 4,
 "nbformat_minor": 5
}
