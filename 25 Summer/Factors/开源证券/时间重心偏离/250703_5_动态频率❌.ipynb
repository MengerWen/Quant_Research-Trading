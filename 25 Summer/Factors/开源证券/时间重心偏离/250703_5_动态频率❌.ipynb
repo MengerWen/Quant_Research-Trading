{
 "cells": [
  {
   "cell_type": "code",
   "execution_count": 1,
   "id": "82d3152a",
   "metadata": {},
   "outputs": [],
   "source": [
    "import sys\n",
    "sys.path.append('/public/src')\n",
    "from factor_evaluation_server import FactorEvaluation,DataService # type: ignore\n",
    "import numpy as np\n",
    "import pandas as pd\n",
    "from sklearn.linear_model import LinearRegression"
   ]
  },
  {
   "cell_type": "code",
   "execution_count": 2,
   "id": "cca94b92",
   "metadata": {},
   "outputs": [],
   "source": [
    "ds=DataService()\n",
    "df=ds['ETHUSDT_15m_2020_2025']['2021-10-01':]"
   ]
  },
  {
   "cell_type": "code",
   "execution_count": 3,
   "id": "e8655e1e",
   "metadata": {},
   "outputs": [],
   "source": [
    "evaluator=FactorEvaluation(df=df,future_return_periods=10)"
   ]
  },
  {
   "cell_type": "markdown",
   "id": "3a28cdc2",
   "metadata": {},
   "source": [
    "# 定义因子！"
   ]
  },
  {
   "cell_type": "code",
   "execution_count": 4,
   "id": "055a4c77",
   "metadata": {},
   "outputs": [],
   "source": [
    "def factor(df, window=20, update_freq=4):\n",
    "    df = df.copy()\n",
    "    df['return'] = (df['close'] - df['open']) / df['open']\n",
    "    df['factor_value'] = np.nan  # 初始化因子值列\n",
    "    \n",
    "    # 每天96根15分钟K线 (24小时 * 4)\n",
    "    daily_kline_count = 96\n",
    "    \n",
    "    # 滚动计算因子值\n",
    "    for end_idx in range(window * daily_kline_count, len(df), update_freq):\n",
    "        start_idx = end_idx - window * daily_kline_count\n",
    "        window_df = df.iloc[start_idx:end_idx]\n",
    "        \n",
    "        daily_results = []\n",
    "        for date, group in window_df.groupby(pd.Grouper(freq='D')):\n",
    "            if len(group) < 4:\n",
    "                continue\n",
    "                \n",
    "            # 收益率缩尾处理\n",
    "            returns = group['return'].copy()\n",
    "            q_low = returns.quantile(0.05)\n",
    "            q_hi = returns.quantile(0.95)\n",
    "            returns = returns.clip(lower=q_low, upper=q_hi)\n",
    "            \n",
    "            time_idx = np.arange(len(group))\n",
    "            up_mask = returns > 0\n",
    "            down_mask = returns < 0\n",
    "            flat_mask = returns == 0\n",
    "            \n",
    "            # 成交量加权\n",
    "            if up_mask.any():\n",
    "                up_weights = returns[up_mask].abs() * group.loc[up_mask, 'volume']\n",
    "                G_u = np.sum(time_idx[up_mask] * up_weights) / up_weights.sum()\n",
    "            else:\n",
    "                G_u = np.nan\n",
    "                \n",
    "            if down_mask.any():\n",
    "                down_weights = returns[down_mask].abs() * group.loc[down_mask, 'volume']\n",
    "                G_d = np.sum(time_idx[down_mask] * down_weights) / down_weights.sum()\n",
    "            else:\n",
    "                G_d = np.nan\n",
    "                \n",
    "            if flat_mask.any():\n",
    "                flat_weights = group.loc[flat_mask, 'volume'] * (\n",
    "                    1 - (group.loc[flat_mask, 'high'] - group.loc[flat_mask, 'low']).abs() / group.loc[flat_mask, 'open']\n",
    "                )\n",
    "                G_f = np.sum(time_idx[flat_mask] * flat_weights) / flat_weights.sum()\n",
    "            else:\n",
    "                G_f = np.nan\n",
    "                \n",
    "            daily_results.append({\n",
    "                'date': date,\n",
    "                'G_u': G_u,\n",
    "                'G_d': G_d,\n",
    "                'G_f': G_f\n",
    "            })\n",
    "        \n",
    "        if not daily_results:\n",
    "            current_factor = np.nan\n",
    "        else:\n",
    "            daily_df = pd.DataFrame(daily_results).set_index('date')\n",
    "            \n",
    "            # 回归计算残差\n",
    "            residuals = []\n",
    "            for i in range(window, len(daily_df)):\n",
    "                train_data = daily_df.iloc[i-window:i].dropna(subset=['G_u', 'G_d'])\n",
    "                if len(train_data) < 10:\n",
    "                    residuals.append(np.nan)\n",
    "                    continue\n",
    "                    \n",
    "                X = train_data[['G_u']].values\n",
    "                y = train_data['G_d'].values\n",
    "                model = LinearRegression().fit(X, y)\n",
    "                \n",
    "                current = daily_df.iloc[i]\n",
    "                if pd.isna(current['G_u']) or pd.isna(current['G_d']):\n",
    "                    residuals.append(np.nan)\n",
    "                else:\n",
    "                    pred_G_d = model.predict([[current['G_u']]])[0]\n",
    "                    residuals.append(current['G_d'] - pred_G_d)\n",
    "            \n",
    "            if residuals:\n",
    "                daily_df = daily_df.iloc[window:]\n",
    "                daily_df['residual'] = residuals\n",
    "                current_factor = daily_df['residual'].rolling(window).mean().iloc[-1]\n",
    "            else:\n",
    "                current_factor = np.nan\n",
    "        \n",
    "        # 更新当前窗口的因子值\n",
    "        df.iloc[end_idx:min(end_idx+update_freq, len(df)), df.columns.get_loc('factor_value')] = current_factor\n",
    "    \n",
    "    return -df['factor_value']"
   ]
  },
  {
   "cell_type": "markdown",
   "id": "0559815c",
   "metadata": {},
   "source": [
    "# 测试因子表现"
   ]
  },
  {
   "cell_type": "code",
   "execution_count": 5,
   "id": "490caf0b",
   "metadata": {},
   "outputs": [
    {
     "ename": "IndexError",
     "evalue": "cannot do a non-empty take from an empty axes.",
     "output_type": "error",
     "traceback": [
      "\u001b[31m---------------------------------------------------------------------------\u001b[39m",
      "\u001b[31mIndexError\u001b[39m                                Traceback (most recent call last)",
      "\u001b[36mCell\u001b[39m\u001b[36m \u001b[39m\u001b[32mIn[5]\u001b[39m\u001b[32m, line 6\u001b[39m\n\u001b[32m      1\u001b[39m evaluator.set_factor(\n\u001b[32m      2\u001b[39m     factor_func=\u001b[38;5;28;01mlambda\u001b[39;00m df: factor(df),\n\u001b[32m      3\u001b[39m     factor_name=\u001b[33m'\u001b[39m\u001b[33mfactor\u001b[39m\u001b[33m'\u001b[39m\n\u001b[32m      4\u001b[39m )\n\u001b[32m----> \u001b[39m\u001b[32m6\u001b[39m result=\u001b[43mevaluator\u001b[49m\u001b[43m.\u001b[49m\u001b[43mrun_full_evaluation\u001b[49m\u001b[43m(\u001b[49m\u001b[43mrun_stationarity_test\u001b[49m\u001b[43m=\u001b[49m\u001b[38;5;28;43;01mFalse\u001b[39;49;00m\u001b[43m)\u001b[49m\n",
      "\u001b[36mFile \u001b[39m\u001b[32mfactor_evaluation_server.py:1452\u001b[39m, in \u001b[36mfactor_evaluation_server.FactorEvaluation.run_full_evaluation\u001b[39m\u001b[34m()\u001b[39m\n",
      "\u001b[36mFile \u001b[39m\u001b[32mfactor_evaluation_server.py:1475\u001b[39m, in \u001b[36mfactor_evaluation_server.FactorEvaluation._run_single_evaluation\u001b[39m\u001b[34m()\u001b[39m\n",
      "\u001b[36mFile \u001b[39m\u001b[32mfactor_evaluation_server.py:1086\u001b[39m, in \u001b[36mfactor_evaluation_server.FactorEvaluation.information_ratio\u001b[39m\u001b[34m()\u001b[39m\n",
      "\u001b[36mFile \u001b[39m\u001b[32m~/miniconda3/envs/cta_v1/lib/python3.11/site-packages/pandas/core/reshape/tile.py:377\u001b[39m, in \u001b[36mqcut\u001b[39m\u001b[34m(x, q, labels, retbins, precision, duplicates)\u001b[39m\n\u001b[32m    375\u001b[39m x_np = np.asarray(x)\n\u001b[32m    376\u001b[39m x_np = x_np[~np.isnan(x_np)]\n\u001b[32m--> \u001b[39m\u001b[32m377\u001b[39m bins = \u001b[43mnp\u001b[49m\u001b[43m.\u001b[49m\u001b[43mquantile\u001b[49m\u001b[43m(\u001b[49m\u001b[43mx_np\u001b[49m\u001b[43m,\u001b[49m\u001b[43m \u001b[49m\u001b[43mquantiles\u001b[49m\u001b[43m)\u001b[49m\n\u001b[32m    379\u001b[39m fac, bins = _bins_to_cuts(\n\u001b[32m    380\u001b[39m     x,\n\u001b[32m    381\u001b[39m     bins,\n\u001b[32m   (...)\u001b[39m\u001b[32m    386\u001b[39m     duplicates=duplicates,\n\u001b[32m    387\u001b[39m )\n\u001b[32m    389\u001b[39m \u001b[38;5;28;01mreturn\u001b[39;00m _postprocess_for_cut(fac, bins, retbins, dtype, original)\n",
      "\u001b[36mFile \u001b[39m\u001b[32m<__array_function__ internals>:180\u001b[39m, in \u001b[36mquantile\u001b[39m\u001b[34m(*args, **kwargs)\u001b[39m\n",
      "\u001b[36mFile \u001b[39m\u001b[32m~/miniconda3/envs/cta_v1/lib/python3.11/site-packages/numpy/lib/function_base.py:4412\u001b[39m, in \u001b[36mquantile\u001b[39m\u001b[34m(a, q, axis, out, overwrite_input, method, keepdims, interpolation)\u001b[39m\n\u001b[32m   4410\u001b[39m \u001b[38;5;28;01mif\u001b[39;00m \u001b[38;5;129;01mnot\u001b[39;00m _quantile_is_valid(q):\n\u001b[32m   4411\u001b[39m     \u001b[38;5;28;01mraise\u001b[39;00m \u001b[38;5;167;01mValueError\u001b[39;00m(\u001b[33m\"\u001b[39m\u001b[33mQuantiles must be in the range [0, 1]\u001b[39m\u001b[33m\"\u001b[39m)\n\u001b[32m-> \u001b[39m\u001b[32m4412\u001b[39m \u001b[38;5;28;01mreturn\u001b[39;00m \u001b[43m_quantile_unchecked\u001b[49m\u001b[43m(\u001b[49m\n\u001b[32m   4413\u001b[39m \u001b[43m    \u001b[49m\u001b[43ma\u001b[49m\u001b[43m,\u001b[49m\u001b[43m \u001b[49m\u001b[43mq\u001b[49m\u001b[43m,\u001b[49m\u001b[43m \u001b[49m\u001b[43maxis\u001b[49m\u001b[43m,\u001b[49m\u001b[43m \u001b[49m\u001b[43mout\u001b[49m\u001b[43m,\u001b[49m\u001b[43m \u001b[49m\u001b[43moverwrite_input\u001b[49m\u001b[43m,\u001b[49m\u001b[43m \u001b[49m\u001b[43mmethod\u001b[49m\u001b[43m,\u001b[49m\u001b[43m \u001b[49m\u001b[43mkeepdims\u001b[49m\u001b[43m)\u001b[49m\n",
      "\u001b[36mFile \u001b[39m\u001b[32m~/miniconda3/envs/cta_v1/lib/python3.11/site-packages/numpy/lib/function_base.py:4424\u001b[39m, in \u001b[36m_quantile_unchecked\u001b[39m\u001b[34m(a, q, axis, out, overwrite_input, method, keepdims)\u001b[39m\n\u001b[32m   4416\u001b[39m \u001b[38;5;28;01mdef\u001b[39;00m\u001b[38;5;250m \u001b[39m\u001b[34m_quantile_unchecked\u001b[39m(a,\n\u001b[32m   4417\u001b[39m                         q,\n\u001b[32m   4418\u001b[39m                         axis=\u001b[38;5;28;01mNone\u001b[39;00m,\n\u001b[32m   (...)\u001b[39m\u001b[32m   4421\u001b[39m                         method=\u001b[33m\"\u001b[39m\u001b[33mlinear\u001b[39m\u001b[33m\"\u001b[39m,\n\u001b[32m   4422\u001b[39m                         keepdims=\u001b[38;5;28;01mFalse\u001b[39;00m):\n\u001b[32m   4423\u001b[39m \u001b[38;5;250m    \u001b[39m\u001b[33;03m\"\"\"Assumes that q is in [0, 1], and is an ndarray\"\"\"\u001b[39;00m\n\u001b[32m-> \u001b[39m\u001b[32m4424\u001b[39m     r, k = \u001b[43m_ureduce\u001b[49m\u001b[43m(\u001b[49m\u001b[43ma\u001b[49m\u001b[43m,\u001b[49m\n\u001b[32m   4425\u001b[39m \u001b[43m                    \u001b[49m\u001b[43mfunc\u001b[49m\u001b[43m=\u001b[49m\u001b[43m_quantile_ureduce_func\u001b[49m\u001b[43m,\u001b[49m\n\u001b[32m   4426\u001b[39m \u001b[43m                    \u001b[49m\u001b[43mq\u001b[49m\u001b[43m=\u001b[49m\u001b[43mq\u001b[49m\u001b[43m,\u001b[49m\n\u001b[32m   4427\u001b[39m \u001b[43m                    \u001b[49m\u001b[43maxis\u001b[49m\u001b[43m=\u001b[49m\u001b[43maxis\u001b[49m\u001b[43m,\u001b[49m\n\u001b[32m   4428\u001b[39m \u001b[43m                    \u001b[49m\u001b[43mout\u001b[49m\u001b[43m=\u001b[49m\u001b[43mout\u001b[49m\u001b[43m,\u001b[49m\n\u001b[32m   4429\u001b[39m \u001b[43m                    \u001b[49m\u001b[43moverwrite_input\u001b[49m\u001b[43m=\u001b[49m\u001b[43moverwrite_input\u001b[49m\u001b[43m,\u001b[49m\n\u001b[32m   4430\u001b[39m \u001b[43m                    \u001b[49m\u001b[43mmethod\u001b[49m\u001b[43m=\u001b[49m\u001b[43mmethod\u001b[49m\u001b[43m)\u001b[49m\n\u001b[32m   4431\u001b[39m     \u001b[38;5;28;01mif\u001b[39;00m keepdims:\n\u001b[32m   4432\u001b[39m         \u001b[38;5;28;01mreturn\u001b[39;00m r.reshape(q.shape + k)\n",
      "\u001b[36mFile \u001b[39m\u001b[32m~/miniconda3/envs/cta_v1/lib/python3.11/site-packages/numpy/lib/function_base.py:3725\u001b[39m, in \u001b[36m_ureduce\u001b[39m\u001b[34m(a, func, **kwargs)\u001b[39m\n\u001b[32m   3722\u001b[39m \u001b[38;5;28;01melse\u001b[39;00m:\n\u001b[32m   3723\u001b[39m     keepdim = (\u001b[32m1\u001b[39m,) * a.ndim\n\u001b[32m-> \u001b[39m\u001b[32m3725\u001b[39m r = \u001b[43mfunc\u001b[49m\u001b[43m(\u001b[49m\u001b[43ma\u001b[49m\u001b[43m,\u001b[49m\u001b[43m \u001b[49m\u001b[43m*\u001b[49m\u001b[43m*\u001b[49m\u001b[43mkwargs\u001b[49m\u001b[43m)\u001b[49m\n\u001b[32m   3726\u001b[39m \u001b[38;5;28;01mreturn\u001b[39;00m r, keepdim\n",
      "\u001b[36mFile \u001b[39m\u001b[32m~/miniconda3/envs/cta_v1/lib/python3.11/site-packages/numpy/lib/function_base.py:4593\u001b[39m, in \u001b[36m_quantile_ureduce_func\u001b[39m\u001b[34m(a, q, axis, out, overwrite_input, method)\u001b[39m\n\u001b[32m   4591\u001b[39m     \u001b[38;5;28;01melse\u001b[39;00m:\n\u001b[32m   4592\u001b[39m         arr = a.copy()\n\u001b[32m-> \u001b[39m\u001b[32m4593\u001b[39m result = \u001b[43m_quantile\u001b[49m\u001b[43m(\u001b[49m\u001b[43marr\u001b[49m\u001b[43m,\u001b[49m\n\u001b[32m   4594\u001b[39m \u001b[43m                   \u001b[49m\u001b[43mquantiles\u001b[49m\u001b[43m=\u001b[49m\u001b[43mq\u001b[49m\u001b[43m,\u001b[49m\n\u001b[32m   4595\u001b[39m \u001b[43m                   \u001b[49m\u001b[43maxis\u001b[49m\u001b[43m=\u001b[49m\u001b[43maxis\u001b[49m\u001b[43m,\u001b[49m\n\u001b[32m   4596\u001b[39m \u001b[43m                   \u001b[49m\u001b[43mmethod\u001b[49m\u001b[43m=\u001b[49m\u001b[43mmethod\u001b[49m\u001b[43m,\u001b[49m\n\u001b[32m   4597\u001b[39m \u001b[43m                   \u001b[49m\u001b[43mout\u001b[49m\u001b[43m=\u001b[49m\u001b[43mout\u001b[49m\u001b[43m)\u001b[49m\n\u001b[32m   4598\u001b[39m \u001b[38;5;28;01mreturn\u001b[39;00m result\n",
      "\u001b[36mFile \u001b[39m\u001b[32m~/miniconda3/envs/cta_v1/lib/python3.11/site-packages/numpy/lib/function_base.py:4699\u001b[39m, in \u001b[36m_quantile\u001b[39m\u001b[34m(arr, quantiles, axis, method, out)\u001b[39m\n\u001b[32m   4691\u001b[39m arr.partition(\n\u001b[32m   4692\u001b[39m     np.unique(np.concatenate(([\u001b[32m0\u001b[39m, -\u001b[32m1\u001b[39m],\n\u001b[32m   4693\u001b[39m                               previous_indexes.ravel(),\n\u001b[32m   4694\u001b[39m                               next_indexes.ravel(),\n\u001b[32m   4695\u001b[39m                               ))),\n\u001b[32m   4696\u001b[39m     axis=DATA_AXIS)\n\u001b[32m   4697\u001b[39m \u001b[38;5;28;01mif\u001b[39;00m np.issubdtype(arr.dtype, np.inexact):\n\u001b[32m   4698\u001b[39m     slices_having_nans = np.isnan(\n\u001b[32m-> \u001b[39m\u001b[32m4699\u001b[39m         \u001b[43mtake\u001b[49m\u001b[43m(\u001b[49m\u001b[43marr\u001b[49m\u001b[43m,\u001b[49m\u001b[43m \u001b[49m\u001b[43mindices\u001b[49m\u001b[43m=\u001b[49m\u001b[43m-\u001b[49m\u001b[32;43m1\u001b[39;49m\u001b[43m,\u001b[49m\u001b[43m \u001b[49m\u001b[43maxis\u001b[49m\u001b[43m=\u001b[49m\u001b[43mDATA_AXIS\u001b[49m\u001b[43m)\u001b[49m\n\u001b[32m   4700\u001b[39m     )\n\u001b[32m   4701\u001b[39m \u001b[38;5;28;01melse\u001b[39;00m:\n\u001b[32m   4702\u001b[39m     slices_having_nans = \u001b[38;5;28;01mNone\u001b[39;00m\n",
      "\u001b[36mFile \u001b[39m\u001b[32m<__array_function__ internals>:180\u001b[39m, in \u001b[36mtake\u001b[39m\u001b[34m(*args, **kwargs)\u001b[39m\n",
      "\u001b[36mFile \u001b[39m\u001b[32m~/miniconda3/envs/cta_v1/lib/python3.11/site-packages/numpy/core/fromnumeric.py:190\u001b[39m, in \u001b[36mtake\u001b[39m\u001b[34m(a, indices, axis, out, mode)\u001b[39m\n\u001b[32m     93\u001b[39m \u001b[38;5;129m@array_function_dispatch\u001b[39m(_take_dispatcher)\n\u001b[32m     94\u001b[39m \u001b[38;5;28;01mdef\u001b[39;00m\u001b[38;5;250m \u001b[39m\u001b[34mtake\u001b[39m(a, indices, axis=\u001b[38;5;28;01mNone\u001b[39;00m, out=\u001b[38;5;28;01mNone\u001b[39;00m, mode=\u001b[33m'\u001b[39m\u001b[33mraise\u001b[39m\u001b[33m'\u001b[39m):\n\u001b[32m     95\u001b[39m \u001b[38;5;250m    \u001b[39m\u001b[33;03m\"\"\"\u001b[39;00m\n\u001b[32m     96\u001b[39m \u001b[33;03m    Take elements from an array along an axis.\u001b[39;00m\n\u001b[32m     97\u001b[39m \n\u001b[32m   (...)\u001b[39m\u001b[32m    188\u001b[39m \u001b[33;03m           [5, 7]])\u001b[39;00m\n\u001b[32m    189\u001b[39m \u001b[33;03m    \"\"\"\u001b[39;00m\n\u001b[32m--> \u001b[39m\u001b[32m190\u001b[39m     \u001b[38;5;28;01mreturn\u001b[39;00m \u001b[43m_wrapfunc\u001b[49m\u001b[43m(\u001b[49m\u001b[43ma\u001b[49m\u001b[43m,\u001b[49m\u001b[43m \u001b[49m\u001b[33;43m'\u001b[39;49m\u001b[33;43mtake\u001b[39;49m\u001b[33;43m'\u001b[39;49m\u001b[43m,\u001b[49m\u001b[43m \u001b[49m\u001b[43mindices\u001b[49m\u001b[43m,\u001b[49m\u001b[43m \u001b[49m\u001b[43maxis\u001b[49m\u001b[43m=\u001b[49m\u001b[43maxis\u001b[49m\u001b[43m,\u001b[49m\u001b[43m \u001b[49m\u001b[43mout\u001b[49m\u001b[43m=\u001b[49m\u001b[43mout\u001b[49m\u001b[43m,\u001b[49m\u001b[43m \u001b[49m\u001b[43mmode\u001b[49m\u001b[43m=\u001b[49m\u001b[43mmode\u001b[49m\u001b[43m)\u001b[49m\n",
      "\u001b[36mFile \u001b[39m\u001b[32m~/miniconda3/envs/cta_v1/lib/python3.11/site-packages/numpy/core/fromnumeric.py:57\u001b[39m, in \u001b[36m_wrapfunc\u001b[39m\u001b[34m(obj, method, *args, **kwds)\u001b[39m\n\u001b[32m     54\u001b[39m     \u001b[38;5;28;01mreturn\u001b[39;00m _wrapit(obj, method, *args, **kwds)\n\u001b[32m     56\u001b[39m \u001b[38;5;28;01mtry\u001b[39;00m:\n\u001b[32m---> \u001b[39m\u001b[32m57\u001b[39m     \u001b[38;5;28;01mreturn\u001b[39;00m \u001b[43mbound\u001b[49m\u001b[43m(\u001b[49m\u001b[43m*\u001b[49m\u001b[43margs\u001b[49m\u001b[43m,\u001b[49m\u001b[43m \u001b[49m\u001b[43m*\u001b[49m\u001b[43m*\u001b[49m\u001b[43mkwds\u001b[49m\u001b[43m)\u001b[49m\n\u001b[32m     58\u001b[39m \u001b[38;5;28;01mexcept\u001b[39;00m \u001b[38;5;167;01mTypeError\u001b[39;00m:\n\u001b[32m     59\u001b[39m     \u001b[38;5;66;03m# A TypeError occurs if the object does have such a method in its\u001b[39;00m\n\u001b[32m     60\u001b[39m     \u001b[38;5;66;03m# class, but its signature is not identical to that of NumPy's. This\u001b[39;00m\n\u001b[32m   (...)\u001b[39m\u001b[32m     64\u001b[39m     \u001b[38;5;66;03m# Call _wrapit from within the except clause to ensure a potential\u001b[39;00m\n\u001b[32m     65\u001b[39m     \u001b[38;5;66;03m# exception has a traceback chain.\u001b[39;00m\n\u001b[32m     66\u001b[39m     \u001b[38;5;28;01mreturn\u001b[39;00m _wrapit(obj, method, *args, **kwds)\n",
      "\u001b[31mIndexError\u001b[39m: cannot do a non-empty take from an empty axes."
     ]
    }
   ],
   "source": [
    "evaluator.set_factor(\n",
    "    factor_func=lambda df: factor(df),\n",
    "    factor_name='factor'\n",
    ")\n",
    "\n",
    "result=evaluator.run_full_evaluation(run_stationarity_test=False)"
   ]
  },
  {
   "cell_type": "code",
   "execution_count": null,
   "id": "70da0447",
   "metadata": {},
   "outputs": [
    {
     "data": {
      "text/plain": [
       "[-0.008476654572579111,\n",
       " 0.03362084872988154,\n",
       " 0.01583233018424272,\n",
       " -0.032675446495493365,\n",
       " -0.028712004481536865,\n",
       " -0.005930556451302199,\n",
       " -0.01253614420237807,\n",
       " -0.035266773452911876,\n",
       " -0.03456603738673479,\n",
       " 0.004062187658820262]"
      ]
     },
     "metadata": {},
     "output_type": "display_data"
    }
   ],
   "source": [
    "result['information_ratio']['group_correlations']\n",
    "# 这表示不同分组之间的相关性，通常用于评估因子在不同市场状态下的表现一致性。\n",
    "# 如果相关性较高，说明因子在不同市场状态下表现一致；如果相关性较低，说明因子在不同市场状态下表现差异较大。"
   ]
  },
  {
   "cell_type": "code",
   "execution_count": null,
   "id": "7a587011",
   "metadata": {},
   "outputs": [
    {
     "name": "stdout",
     "output_type": "stream",
     "text": [
      "{'correlation_analysis': {'IC': -0.02419501066602169, 'Rank_IC': -0.024764644729254544}, 'information_ratio': {'IR': -0.4728877259093413, 'group_correlations': [-0.008476654572579111, 0.03362084872988154, 0.01583233018424272, -0.032675446495493365, -0.028712004481536865, -0.005930556451302199, -0.01253614420237807, -0.035266773452911876, -0.03456603738673479, 0.004062187658820262], 'n_groups': 10}, 'group_analysis': {'group_stats':        val_min  val_max  val_mean  return_mean  return_std  count\n",
      "group                                                            \n",
      "0      -5.7189  -2.6965   -3.5827      -0.0001      0.0154   6432\n",
      "1      -2.6917  -2.1801   -2.4097       0.0003      0.0109   6336\n",
      "2      -2.1733  -1.7637   -1.9545       0.0007      0.0122   6336\n",
      "3      -1.7551  -1.3514   -1.5415       0.0010      0.0113   6432\n",
      "4      -1.3448  -1.0844   -1.1991       0.0000      0.0110   6336\n",
      "5      -1.0805  -0.8749   -0.9827      -0.0001      0.0103   6336\n",
      "6      -0.8723  -0.5810   -0.7319       0.0011      0.0101   6432\n",
      "7      -0.5802  -0.3586   -0.4793       0.0002      0.0105   6336\n",
      "8      -0.3557  -0.1281   -0.2426       0.0002      0.0107   6336\n",
      "9      -0.1274   0.1363    0.0009      -0.0003      0.0112   6336\n",
      "10      0.1406   0.3496    0.2423      -0.0001      0.0116   6432\n",
      "11      0.3572   0.5519    0.4565      -0.0000      0.0124   6336\n",
      "12      0.5524   0.7738    0.6639      -0.0000      0.0118   6336\n",
      "13      0.7785   1.0255    0.9019      -0.0004      0.0131   6432\n",
      "14      1.0295   1.3476    1.1707      -0.0001      0.0104   6336\n",
      "15      1.3495   1.6646    1.5070      -0.0003      0.0131   6336\n",
      "16      1.6692   2.0498    1.8530      -0.0002      0.0129   6432\n",
      "17      2.0512   2.5575    2.2990      -0.0009      0.0122   6336\n",
      "18      2.5621   3.1975    2.8371      -0.0005      0.0102   6331\n",
      "19      3.2184   6.2928    4.1267      -0.0002      0.0121   6336, 'figure': <Figure size 1500x800 with 1 Axes>}, 'factor_distribution': {'descriptive_stats': count   127291.0000\n",
      "mean         0.1438\n",
      "std          1.8442\n",
      "min         -5.7189\n",
      "1%          -4.0963\n",
      "5%          -2.6965\n",
      "25%         -1.0844\n",
      "50%          0.1363\n",
      "75%          1.3476\n",
      "95%          3.1975\n",
      "99%          4.5200\n",
      "max          6.2928\n",
      "Name: factor, dtype: float64, 'outlier_analysis': >3std   0.0053\n",
      ">5std   0.0000\n",
      "dtype: float64, 'window_stats': {10: {'stats':                                               mean    std    skew  lambda  \\\n",
      "[2021-11-09, 2022-03-21 14:15:00)          -0.1069 1.6194  0.2783 -0.4887   \n",
      "[2022-03-21 14:15:00, 2022-08-01 04:30:00)  0.1811 1.9098 -0.3015  0.3047   \n",
      "[2022-08-01 04:30:00, 2022-12-11 18:45:00)  0.4054 1.8022 -0.2142 -0.7297   \n",
      "[2022-12-11 18:45:00, 2023-04-23 09:00:00)  0.3374 2.3552  0.5687 -0.1859   \n",
      "[2023-04-23 09:00:00, 2023-09-02 23:15:00)  0.1968 2.4615 -0.2842 -0.0790   \n",
      "[2023-09-02 23:15:00, 2024-01-13 13:30:00) -0.1829 1.4159 -0.1650 -0.7706   \n",
      "[2024-01-13 13:30:00, 2024-05-25 03:45:00) -0.0757 1.4882 -0.3277 -0.1192   \n",
      "[2024-05-25 03:45:00, 2024-10-04 18:00:00)  0.5843 1.6406  0.0975 -0.7754   \n",
      "[2024-10-04 18:00:00, 2025-02-14 08:15:00)  0.3210 1.5394  0.3081 -0.7558   \n",
      "[2025-02-14 08:15:00, 2025-06-26 22:30:00) -0.2226 1.7093  0.5766  0.2682   \n",
      "\n",
      "                                            count  \n",
      "[2021-11-09, 2022-03-21 14:15:00)           12729  \n",
      "[2022-03-21 14:15:00, 2022-08-01 04:30:00)  12729  \n",
      "[2022-08-01 04:30:00, 2022-12-11 18:45:00)  12729  \n",
      "[2022-12-11 18:45:00, 2023-04-23 09:00:00)  12729  \n",
      "[2023-04-23 09:00:00, 2023-09-02 23:15:00)  12729  \n",
      "[2023-09-02 23:15:00, 2024-01-13 13:30:00)  12729  \n",
      "[2024-01-13 13:30:00, 2024-05-25 03:45:00)  12729  \n",
      "[2024-05-25 03:45:00, 2024-10-04 18:00:00)  12729  \n",
      "[2024-10-04 18:00:00, 2025-02-14 08:15:00)  12729  \n",
      "[2025-02-14 08:15:00, 2025-06-26 22:30:00)  12729  , 'time_ranges': ['2021-11-09 ~ 2022-03-21', '2022-03-21 ~ 2022-08-01', '2022-08-01 ~ 2022-12-11', '2022-12-11 ~ 2023-04-23', '2023-04-23 ~ 2023-09-02', '2023-09-02 ~ 2024-01-13', '2024-01-13 ~ 2024-05-25', '2024-05-25 ~ 2024-10-04', '2024-10-04 ~ 2025-02-14', '2025-02-14 ~ 2025-06-26']}}, 'figure': <Figure size 1200x800 with 1 Axes>}, 'factor_return_scatter': {'figure': <Figure size 1200x800 with 1 Axes>, 'correlation': -0.02419501066602169, 'data_points': 127291}, 'rolling_ic_analysis': {'figure': <Figure size 1500x1000 with 2 Axes>, 'rolling_ic': [-0.055045372451936275, -0.031997937503362606, -0.026193269248502266, -0.006643031906939774, 0.003959361921514816, 0.012084814162839201, 0.010732711396627077, 0.019100738162877523, 0.016140060605405758, 0.016730568072710516, 0.015420284749226531, -0.003428840245003608, -0.012545016724367041, -0.011894105658193266, -0.03342879229453146, -0.039306527669975076, -0.033617580083171374, -0.035868767158424505, -0.03487265303579916, -0.01575809424581681, -0.011961135152906331, -0.006257493516993879, 0.0029944626981206037, -0.0002290773953911108, 0.004105997388621861, 0.005160703052300515, 0.001673967777167884, 0.013426508725917856, 0.014476434590332384, -0.021436269926267633, -0.014405965082004622, -0.039335304053016676, -0.04111409586349606, -0.06163540101260203, -0.04992174545661082, -0.032527313546745804, -0.03113679721820723, -0.04026015847248427, -0.06210185039848139, -0.0479706357280113, -0.056564644731049246, -0.04783164150902425, -0.03701603767650197, -0.03883298122229494, -0.049362073902885904, -0.061208643387454215, -0.055648356205853525, -0.06288283989243877, -0.04234405653819061, -0.03541201694274765, -0.03245568973699413, -0.02871135221295234, -0.051426536305029795, -0.05245460843068385], 'rolling_rank_ic': [-0.0631235580403472, -0.04330878016207058, -0.040118454208168966, -0.023829117989207057, -0.012584183342926712, -0.0012025654212703466, -0.001304828891973745, 0.008455151438975411, 0.010826790817514092, 0.01643721535010397, 0.014140723084644638, -0.009028273703383858, -0.014805873780684356, -0.008825314321271985, -0.019119162293847997, -0.025991208145619026, -0.0226503499870977, -0.02095967812707859, -0.022530992083410945, -0.010616776014441292, -0.005384160408850451, 0.0001415178895542517, -0.0007998623667721057, -0.005962381077272227, -0.007449032684967607, -0.007055332864622167, -0.011272620907461577, 0.000640891745624388, 0.00418628377222214, -0.015696399201035778, -0.011500015891277771, -0.03464268782615913, -0.03210086127126622, -0.052262646051978306, -0.0388562447000415, -0.022459488245626297, -0.017164674078957824, -0.03215792803441009, -0.04601174783502057, -0.033094762879699265, -0.044890874891825125, -0.027985544376174214, -0.01964230708767554, -0.022918517233083364, -0.03397409318989191, -0.0484884529506847, -0.042825807879579146, -0.04020660217319381, -0.031391764496238414, -0.03414564309098681, -0.03306535359877376, -0.03291133677619136, -0.04438054349644971, -0.045594273422636084], 'cumsum_ic': array([-0.05504537, -0.08704331, -0.11323658, -0.11987961, -0.11592025,\n",
      "       -0.10383544, -0.09310272, -0.07400199, -0.05786192, -0.04113136,\n",
      "       -0.02571107, -0.02913991, -0.04168493, -0.05357903, -0.08700783,\n",
      "       -0.12631435, -0.15993193, -0.1958007 , -0.23067335, -0.24643145,\n",
      "       -0.25839258, -0.26465008, -0.26165562, -0.26188469, -0.2577787 ,\n",
      "       -0.25261799, -0.25094402, -0.23751752, -0.22304108, -0.24447735,\n",
      "       -0.25888332, -0.29821862, -0.33933272, -0.40096812, -0.45088986,\n",
      "       -0.48341718, -0.51455397, -0.55481413, -0.61691598, -0.66488662,\n",
      "       -0.72145126, -0.7692829 , -0.80629894, -0.84513192, -0.894494  ,\n",
      "       -0.95570264, -1.011351  , -1.07423384, -1.11657789, -1.15198991,\n",
      "       -1.1844456 , -1.21315695, -1.26458349, -1.3170381 ]), 'cumsum_rank_ic': array([-0.06312356, -0.10643234, -0.14655079, -0.17037991, -0.18296409,\n",
      "       -0.18416666, -0.18547149, -0.17701634, -0.16618955, -0.14975233,\n",
      "       -0.13561161, -0.14463988, -0.15944575, -0.16827107, -0.18739023,\n",
      "       -0.21338144, -0.23603179, -0.25699147, -0.27952246, -0.29013924,\n",
      "       -0.2955234 , -0.29538188, -0.29618174, -0.30214412, -0.30959315,\n",
      "       -0.31664849, -0.32792111, -0.32728022, -0.32309393, -0.33879033,\n",
      "       -0.35029035, -0.38493304, -0.4170339 , -0.46929654, -0.50815279,\n",
      "       -0.53061228, -0.54777695, -0.57993488, -0.62594663, -0.65904139,\n",
      "       -0.70393226, -0.73191781, -0.75156012, -0.77447863, -0.80845273,\n",
      "       -0.85694118, -0.89976699, -0.93997359, -0.97136535, -1.005511  ,\n",
      "       -1.03857635, -1.07148769, -1.11586823, -1.1614625 ]), 'window_centers': [10000, 12000, 14000, 16000, 18000, 20000, 22000, 24000, 26000, 28000, 30000, 32000, 34000, 36000, 38000, 40000, 42000, 44000, 46000, 48000, 50000, 52000, 54000, 56000, 58000, 60000, 62000, 64000, 66000, 68000, 70000, 72000, 74000, 76000, 78000, 80000, 82000, 84000, 86000, 88000, 90000, 92000, 94000, 96000, 98000, 100000, 102000, 104000, 106000, 108000, 110000, 112000, 114000, 116000], 'initial_window': 20000, 'rolling_step': 2000}}\n"
     ]
    }
   ],
   "source": [
    "print(result)"
   ]
  }
 ],
 "metadata": {
  "kernelspec": {
   "display_name": "cta_v1",
   "language": "python",
   "name": "python3"
  },
  "language_info": {
   "codemirror_mode": {
    "name": "ipython",
    "version": 3
   },
   "file_extension": ".py",
   "mimetype": "text/x-python",
   "name": "python",
   "nbconvert_exporter": "python",
   "pygments_lexer": "ipython3",
   "version": "3.11.13"
  }
 },
 "nbformat": 4,
 "nbformat_minor": 5
}
