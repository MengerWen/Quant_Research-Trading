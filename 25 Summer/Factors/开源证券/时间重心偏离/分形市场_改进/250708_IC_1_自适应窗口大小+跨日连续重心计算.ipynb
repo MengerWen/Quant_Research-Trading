{
 "cells": [
  {
   "cell_type": "code",
   "execution_count": 11,
   "id": "6b12d798",
   "metadata": {},
   "outputs": [],
   "source": [
    "import sys\n",
    "sys.path.append('/public/src')\n",
    "from factor_evaluation_server import FactorEvaluation,DataService # type: ignore\n",
    "import numpy as np\n",
    "import pandas as pd\n",
    "from sklearn.linear_model import LinearRegression"
   ]
  },
  {
   "cell_type": "code",
   "execution_count": 12,
   "id": "9bb31cd4",
   "metadata": {},
   "outputs": [],
   "source": [
    "ds=DataService()\n",
    "df=ds['ETHUSDT_15m_2020_2025']['2021-10-01':]"
   ]
  },
  {
   "cell_type": "code",
   "execution_count": 13,
   "id": "cbf72dcd",
   "metadata": {},
   "outputs": [],
   "source": [
    "evaluator=FactorEvaluation(df=df,future_return_periods=10)"
   ]
  },
  {
   "cell_type": "markdown",
   "id": "fe886468",
   "metadata": {},
   "source": [
    "# 定义因子！"
   ]
  },
  {
   "cell_type": "code",
   "execution_count": 14,
   "id": "c5495ed6",
   "metadata": {},
   "outputs": [],
   "source": [
    "def factor(df, base_window=94, vol_window=20):\n",
    "    df = df.copy()\n",
    "    \n",
    "    # 1. 计算波动率调整系数（修复NaN问题）\n",
    "    df['log_ret'] = np.log(df['close']).diff()\n",
    "    \n",
    "    # 使用足够大的min_periods防止早期NaN\n",
    "    min_periods_vol = max(1, int(0.1 * vol_window * 96))  # 至少10%的窗口大小\n",
    "    df['volatility'] = df['log_ret'].rolling(\n",
    "        window=vol_window * 96, \n",
    "        min_periods=min_periods_vol\n",
    "    ).std()\n",
    "    \n",
    "    # 前向填充波动率并计算长期波动率\n",
    "    df['volatility'].fillna(method='ffill', inplace=True)\n",
    "    df['volatility'].fillna(0.01, inplace=True)  # 初始值填充\n",
    "    \n",
    "    long_term_vol = df['volatility'].expanding(min_periods=1).mean()\n",
    "    df['window_adj'] = np.sqrt(long_term_vol / (df['volatility'] + 1e-8))\n",
    "    \n",
    "    # 2. 连续重心计算（去除日分组）\n",
    "    df['range'] = (df['high'] - df['low']) / df['open']\n",
    "    \n",
    "    # 修复rolling计算中的除零问题\n",
    "    min_periods_fractal = max(1, int(0.5 * 20))  # 至少10个周期\n",
    "    rolling_20std = df['range'].rolling(20, min_periods=min_periods_fractal).std()\n",
    "    rolling_20std.replace(0, 1e-5, inplace=True)\n",
    "    \n",
    "    df['fractal'] = df['range'].rolling(5).std() / rolling_20std\n",
    "    df['is_up'] = (df['close'] > df['open']).astype(int)\n",
    "    df['is_down'] = (df['close'] < df['open']).astype(int)\n",
    "    \n",
    "    # 使用cumsum优化性能（修复累积计算问题）\n",
    "    weights_up = df['fractal'] * df['volume'] * df['is_up']\n",
    "    weights_down = df['fractal'] * df['volume'] * df['is_down']\n",
    "    \n",
    "    # 3. 自适应窗口滚动回归（修复NaN和索引问题）\n",
    "    df['avg_fractal'] = df['fractal'].rolling(24, min_periods=12).mean()\n",
    "    regression_data = np.full(len(df), np.nan)\n",
    "    \n",
    "    # 确保有足够数据点\n",
    "    valid_mask = (\n",
    "        ~df[['G_u', 'avg_fractal', 'G_d']].isnull().any(axis=1) &\n",
    "        (df.index >= df.index[200])  # 确保有足够历史数据\n",
    "    )\n",
    "    \n",
    "    # 动态窗口回归\n",
    "    for i in range(200, len(df)):\n",
    "        if not valid_mask[i]:\n",
    "            continue\n",
    "            \n",
    "        # 获取调整因子并确保有效\n",
    "        adj_factor = df['window_adj'].iloc[i]\n",
    "        if np.isnan(adj_factor) or adj_factor <= 0:\n",
    "            adj_factor = 1.0\n",
    "            \n",
    "        dynamic_window = max(50, min(200, int(base_window * adj_factor)))\n",
    "        start_idx = max(0, i - dynamic_window)\n",
    "        \n",
    "        # 提取有效回归数据\n",
    "        window_data = df.iloc[start_idx:i]\n",
    "        valid_data = window_data.dropna(subset=['G_u', 'G_d', 'avg_fractal'])\n",
    "        \n",
    "        if len(valid_data) < 10:\n",
    "            continue\n",
    "            \n",
    "        # 执行线性回归\n",
    "        X = valid_data[['G_u', 'avg_fractal']]\n",
    "        y = valid_data['G_d']\n",
    "        \n",
    "        model = LinearRegression()\n",
    "        model.fit(X, y)\n",
    "        pred = model.predict([df.iloc[i][['G_u', 'avg_fractal']]])[0]\n",
    "        \n",
    "        residual = df['G_d'].iloc[i] - pred\n",
    "        vol_adj = df['volatility'].iloc[i] / long_term_vol.iloc[i]\n",
    "        \n",
    "        # 波动率调整残差\n",
    "        regression_data[i] = residual * df['avg_fractal'].iloc[i] * vol_adj\n",
    "    \n",
    "    # 4. 因子后处理\n",
    "    factor_series = pd.Series(-regression_data, index=df.index)\n",
    "    \n",
    "    # 滚动标准化（修复窗口不足问题）\n",
    "    min_periods_std = max(1, int(0.1 * 5000))  # 至少500个点\n",
    "    rolling_mean = factor_series.rolling(5000, min_periods=min_periods_std).mean()\n",
    "    rolling_std = factor_series.rolling(5000, min_periods=min_periods_std).std()\n",
    "    rolling_std.replace(0, 1, inplace=True)  # 防止除零\n",
    "    \n",
    "    factor_series = (factor_series - rolling_mean) / rolling_std\n",
    "    return factor_series.fillna(0)"
   ]
  },
  {
   "cell_type": "markdown",
   "id": "6b2eeac0",
   "metadata": {},
   "source": [
    "# 测试因子表现"
   ]
  },
  {
   "cell_type": "code",
   "execution_count": 15,
   "id": "df9f4e0a",
   "metadata": {},
   "outputs": [
    {
     "ename": "ValueError",
     "evalue": "因子函数执行失败: \"['G_u', 'G_d'] not in index\"",
     "output_type": "error",
     "traceback": [
      "\u001b[31m---------------------------------------------------------------------------\u001b[39m",
      "\u001b[31mKeyError\u001b[39m                                  Traceback (most recent call last)",
      "\u001b[36mFile \u001b[39m\u001b[32mfactor_evaluation_server.py:991\u001b[39m, in \u001b[36mfactor_evaluation_server.FactorEvaluation.set_factor\u001b[39m\u001b[34m()\u001b[39m\n",
      "\u001b[36mCell\u001b[39m\u001b[36m \u001b[39m\u001b[32mIn[15]\u001b[39m\u001b[32m, line 2\u001b[39m, in \u001b[36m<lambda>\u001b[39m\u001b[34m(df)\u001b[39m\n\u001b[32m      1\u001b[39m evaluator.set_factor(\n\u001b[32m----> \u001b[39m\u001b[32m2\u001b[39m     factor_func=\u001b[38;5;28;01mlambda\u001b[39;00m df: \u001b[43mfactor\u001b[49m\u001b[43m(\u001b[49m\u001b[43mdf\u001b[49m\u001b[43m)\u001b[49m,\n\u001b[32m      3\u001b[39m     factor_name=\u001b[33m'\u001b[39m\u001b[33mfactor\u001b[39m\u001b[33m'\u001b[39m\n\u001b[32m      4\u001b[39m )\n\u001b[32m      6\u001b[39m result=evaluator.run_full_evaluation(run_stationarity_test=\u001b[38;5;28;01mFalse\u001b[39;00m)\n",
      "\u001b[36mCell\u001b[39m\u001b[36m \u001b[39m\u001b[32mIn[14]\u001b[39m\u001b[32m, line 43\u001b[39m, in \u001b[36mfactor\u001b[39m\u001b[34m(df, base_window, vol_window)\u001b[39m\n\u001b[32m     41\u001b[39m \u001b[38;5;66;03m# 确保有足够数据点\u001b[39;00m\n\u001b[32m     42\u001b[39m valid_mask = (\n\u001b[32m---> \u001b[39m\u001b[32m43\u001b[39m     ~\u001b[43mdf\u001b[49m\u001b[43m[\u001b[49m\u001b[43m[\u001b[49m\u001b[33;43m'\u001b[39;49m\u001b[33;43mG_u\u001b[39;49m\u001b[33;43m'\u001b[39;49m\u001b[43m,\u001b[49m\u001b[43m \u001b[49m\u001b[33;43m'\u001b[39;49m\u001b[33;43mavg_fractal\u001b[39;49m\u001b[33;43m'\u001b[39;49m\u001b[43m,\u001b[49m\u001b[43m \u001b[49m\u001b[33;43m'\u001b[39;49m\u001b[33;43mG_d\u001b[39;49m\u001b[33;43m'\u001b[39;49m\u001b[43m]\u001b[49m\u001b[43m]\u001b[49m.isnull().any(axis=\u001b[32m1\u001b[39m) &\n\u001b[32m     44\u001b[39m     (df.index >= df.index[\u001b[32m200\u001b[39m])  \u001b[38;5;66;03m# 确保有足够历史数据\u001b[39;00m\n\u001b[32m     45\u001b[39m )\n\u001b[32m     47\u001b[39m \u001b[38;5;66;03m# 动态窗口回归\u001b[39;00m\n",
      "\u001b[36mFile \u001b[39m\u001b[32m~/miniconda3/envs/cta_v1/lib/python3.11/site-packages/pandas/core/frame.py:3813\u001b[39m, in \u001b[36mDataFrame.__getitem__\u001b[39m\u001b[34m(self, key)\u001b[39m\n\u001b[32m   3812\u001b[39m         key = \u001b[38;5;28mlist\u001b[39m(key)\n\u001b[32m-> \u001b[39m\u001b[32m3813\u001b[39m     indexer = \u001b[38;5;28;43mself\u001b[39;49m\u001b[43m.\u001b[49m\u001b[43mcolumns\u001b[49m\u001b[43m.\u001b[49m\u001b[43m_get_indexer_strict\u001b[49m\u001b[43m(\u001b[49m\u001b[43mkey\u001b[49m\u001b[43m,\u001b[49m\u001b[43m \u001b[49m\u001b[33;43m\"\u001b[39;49m\u001b[33;43mcolumns\u001b[39;49m\u001b[33;43m\"\u001b[39;49m\u001b[43m)\u001b[49m[\u001b[32m1\u001b[39m]\n\u001b[32m   3815\u001b[39m \u001b[38;5;66;03m# take() does not accept boolean indexers\u001b[39;00m\n",
      "\u001b[36mFile \u001b[39m\u001b[32m~/miniconda3/envs/cta_v1/lib/python3.11/site-packages/pandas/core/indexes/base.py:6070\u001b[39m, in \u001b[36mIndex._get_indexer_strict\u001b[39m\u001b[34m(self, key, axis_name)\u001b[39m\n\u001b[32m   6068\u001b[39m     keyarr, indexer, new_indexer = \u001b[38;5;28mself\u001b[39m._reindex_non_unique(keyarr)\n\u001b[32m-> \u001b[39m\u001b[32m6070\u001b[39m \u001b[38;5;28;43mself\u001b[39;49m\u001b[43m.\u001b[49m\u001b[43m_raise_if_missing\u001b[49m\u001b[43m(\u001b[49m\u001b[43mkeyarr\u001b[49m\u001b[43m,\u001b[49m\u001b[43m \u001b[49m\u001b[43mindexer\u001b[49m\u001b[43m,\u001b[49m\u001b[43m \u001b[49m\u001b[43maxis_name\u001b[49m\u001b[43m)\u001b[49m\n\u001b[32m   6072\u001b[39m keyarr = \u001b[38;5;28mself\u001b[39m.take(indexer)\n",
      "\u001b[36mFile \u001b[39m\u001b[32m~/miniconda3/envs/cta_v1/lib/python3.11/site-packages/pandas/core/indexes/base.py:6133\u001b[39m, in \u001b[36mIndex._raise_if_missing\u001b[39m\u001b[34m(self, key, indexer, axis_name)\u001b[39m\n\u001b[32m   6132\u001b[39m not_found = \u001b[38;5;28mlist\u001b[39m(ensure_index(key)[missing_mask.nonzero()[\u001b[32m0\u001b[39m]].unique())\n\u001b[32m-> \u001b[39m\u001b[32m6133\u001b[39m \u001b[38;5;28;01mraise\u001b[39;00m \u001b[38;5;167;01mKeyError\u001b[39;00m(\u001b[33mf\u001b[39m\u001b[33m\"\u001b[39m\u001b[38;5;132;01m{\u001b[39;00mnot_found\u001b[38;5;132;01m}\u001b[39;00m\u001b[33m not in index\u001b[39m\u001b[33m\"\u001b[39m)\n",
      "\u001b[31mKeyError\u001b[39m: \"['G_u', 'G_d'] not in index\"",
      "\nDuring handling of the above exception, another exception occurred:\n",
      "\u001b[31mValueError\u001b[39m                                Traceback (most recent call last)",
      "\u001b[36mCell\u001b[39m\u001b[36m \u001b[39m\u001b[32mIn[15]\u001b[39m\u001b[32m, line 1\u001b[39m\n\u001b[32m----> \u001b[39m\u001b[32m1\u001b[39m \u001b[43mevaluator\u001b[49m\u001b[43m.\u001b[49m\u001b[43mset_factor\u001b[49m\u001b[43m(\u001b[49m\n\u001b[32m      2\u001b[39m \u001b[43m    \u001b[49m\u001b[43mfactor_func\u001b[49m\u001b[43m=\u001b[49m\u001b[38;5;28;43;01mlambda\u001b[39;49;00m\u001b[43m \u001b[49m\u001b[43mdf\u001b[49m\u001b[43m:\u001b[49m\u001b[43m \u001b[49m\u001b[43mfactor\u001b[49m\u001b[43m(\u001b[49m\u001b[43mdf\u001b[49m\u001b[43m)\u001b[49m\u001b[43m,\u001b[49m\n\u001b[32m      3\u001b[39m \u001b[43m    \u001b[49m\u001b[43mfactor_name\u001b[49m\u001b[43m=\u001b[49m\u001b[33;43m'\u001b[39;49m\u001b[33;43mfactor\u001b[39;49m\u001b[33;43m'\u001b[39;49m\n\u001b[32m      4\u001b[39m \u001b[43m)\u001b[49m\n\u001b[32m      6\u001b[39m result=evaluator.run_full_evaluation(run_stationarity_test=\u001b[38;5;28;01mFalse\u001b[39;00m)\n",
      "\u001b[36mFile \u001b[39m\u001b[32mfactor_evaluation_server.py:999\u001b[39m, in \u001b[36mfactor_evaluation_server.FactorEvaluation.set_factor\u001b[39m\u001b[34m()\u001b[39m\n",
      "\u001b[31mValueError\u001b[39m: 因子函数执行失败: \"['G_u', 'G_d'] not in index\""
     ]
    }
   ],
   "source": [
    "evaluator.set_factor(\n",
    "    factor_func=lambda df: factor(df),\n",
    "    factor_name='factor'\n",
    ")\n",
    "\n",
    "result=evaluator.run_full_evaluation(run_stationarity_test=False)"
   ]
  },
  {
   "cell_type": "code",
   "execution_count": null,
   "id": "047ecfee",
   "metadata": {},
   "outputs": [
    {
     "data": {
      "text/plain": [
       "[-0.01690796479513809,\n",
       " 0.017082174178146198,\n",
       " 0.0015363590771937847,\n",
       " 0.0048825823401946414,\n",
       " -0.0102667659819026,\n",
       " 0.009478070331710262,\n",
       " 0.0028196744056216494,\n",
       " 0.04323663360510031]"
      ]
     },
     "metadata": {},
     "output_type": "display_data"
    }
   ],
   "source": [
    "result['information_ratio']['group_correlations']\n",
    "# 这表示不同分组之间的相关性，通常用于评估因子在不同市场状态下的表现一致性。\n",
    "# 如果相关性较高，说明因子在不同市场状态下表现一致；如果相关性较低，说明因子在不同市场状态下表现差异较大。"
   ]
  },
  {
   "cell_type": "code",
   "execution_count": null,
   "id": "391fe8cd",
   "metadata": {},
   "outputs": [
    {
     "name": "stdout",
     "output_type": "stream",
     "text": [
      "{'correlation_analysis': {'IC': 0.02731286940144614, 'Rank_IC': 0.009464318952115096}, 'information_ratio': {'IR': 0.3790177409362612, 'group_correlations': [-0.01690796479513809, 0.017082174178146198, 0.0015363590771937847, 0.0048825823401946414, -0.0102667659819026, 0.009478070331710262, 0.0028196744056216494, 0.04323663360510031], 'n_groups': 8}, 'group_analysis': {'group_stats':        val_min  val_max  val_mean  return_mean  return_std  count\n",
      "group                                                            \n",
      "0     -29.6643  -7.8114  -10.8188      -0.0003      0.0134   6552\n",
      "1      -7.8113  -5.4966   -6.5002      -0.0005      0.0127   6552\n",
      "2      -5.4966  -4.2037   -4.8063      -0.0003      0.0123   6552\n",
      "3      -4.2037  -3.2444   -3.7009      -0.0000      0.0112   6551\n",
      "4      -3.2443  -2.4907   -2.8543       0.0001      0.0113   6552\n",
      "5      -2.4904  -1.8699   -2.1712       0.0001      0.0114   6552\n",
      "6      -1.8697   0.0000   -0.1080      -0.0002      0.0111  49503\n",
      "7       1.6002   1.8549    1.7270       0.0004      0.0114   2910\n",
      "8       1.8549   2.4913    2.1641       0.0003      0.0116   6552\n",
      "9       2.4913   3.2603    2.8609       0.0004      0.0106   6552\n",
      "10      3.2605   4.2300    3.7218       0.0004      0.0112   6551\n",
      "11      4.2303   5.6304    4.8776       0.0004      0.0115   6552\n",
      "12      5.6304   7.8692    6.6312       0.0005      0.0121   6552\n",
      "13      7.8696  40.0104   11.4552       0.0010      0.0155   6552, 'figure': <Figure size 1500x800 with 1 Axes>}, 'factor_distribution': {'descriptive_stats': count   131035.0000\n",
      "mean         0.0405\n",
      "std          4.8014\n",
      "min        -29.6643\n",
      "1%         -12.6475\n",
      "5%          -7.8113\n",
      "25%         -2.4906\n",
      "50%          0.0000\n",
      "75%          2.4913\n",
      "95%          7.8693\n",
      "99%         13.5993\n",
      "max         40.0104\n",
      "Name: factor, dtype: float64, 'outlier_analysis': >3std   0.0133\n",
      ">5std   0.0008\n",
      "dtype: float64, 'window_stats': {10: {'stats':                                               mean    std    skew  lambda  \\\n",
      "[2021-10-01, 2022-02-14 11:51:00)           0.1011 4.8236 -0.0531  1.8660   \n",
      "[2022-02-14 11:51:00, 2022-06-30 23:42:00)  0.0217 5.0742  0.4386  3.1520   \n",
      "[2022-06-30 23:42:00, 2022-11-14 11:33:00)  0.0262 4.9092  0.6038  4.9219   \n",
      "[2022-11-14 11:33:00, 2023-03-30 23:24:00)  0.0686 4.8100  0.1528  2.1950   \n",
      "[2023-03-30 23:24:00, 2023-08-14 11:15:00)  0.0044 5.1322  0.2783  2.9329   \n",
      "[2023-08-14 11:15:00, 2023-12-28 23:06:00)  0.0388 4.6955  0.3144  2.7943   \n",
      "[2023-12-28 23:06:00, 2024-05-13 10:57:00)  0.0921 4.5514  0.0636  2.6344   \n",
      "[2024-05-13 10:57:00, 2024-09-26 22:48:00)  0.0565 4.6874 -0.0024  1.8303   \n",
      "[2024-09-26 22:48:00, 2025-02-10 10:39:00) -0.0052 4.5632  0.1518  2.9928   \n",
      "[2025-02-10 10:39:00, 2025-06-26 22:30:00)  0.0011 4.7321  0.3093  2.7219   \n",
      "\n",
      "                                            count  \n",
      "[2021-10-01, 2022-02-14 11:51:00)           13104  \n",
      "[2022-02-14 11:51:00, 2022-06-30 23:42:00)  13103  \n",
      "[2022-06-30 23:42:00, 2022-11-14 11:33:00)  13104  \n",
      "[2022-11-14 11:33:00, 2023-03-30 23:24:00)  13103  \n",
      "[2023-03-30 23:24:00, 2023-08-14 11:15:00)  13103  \n",
      "[2023-08-14 11:15:00, 2023-12-28 23:06:00)  13104  \n",
      "[2023-12-28 23:06:00, 2024-05-13 10:57:00)  13103  \n",
      "[2024-05-13 10:57:00, 2024-09-26 22:48:00)  13104  \n",
      "[2024-09-26 22:48:00, 2025-02-10 10:39:00)  13103  \n",
      "[2025-02-10 10:39:00, 2025-06-26 22:30:00)  13103  , 'time_ranges': ['2021-10-01 ~ 2022-02-14', '2022-02-14 ~ 2022-06-30', '2022-06-30 ~ 2022-11-14', '2022-11-14 ~ 2023-03-30', '2023-03-30 ~ 2023-08-14', '2023-08-14 ~ 2023-12-28', '2023-12-28 ~ 2024-05-13', '2024-05-13 ~ 2024-09-26', '2024-09-26 ~ 2025-02-10', '2025-02-10 ~ 2025-06-26']}}, 'figure': <Figure size 1200x800 with 1 Axes>}, 'factor_return_scatter': {'figure': <Figure size 1200x800 with 1 Axes>, 'correlation': 0.02731286940144614, 'data_points': 131035}, 'rolling_ic_analysis': {'figure': <Figure size 1500x1000 with 2 Axes>, 'rolling_ic': [0.039089666800329534, 0.02976759966022099, 0.03598898131894981, 0.027806408635410947, 0.02878764435318593, 0.02090043491691169, 0.021089301014213364, 0.03299973935976006, 0.0358190602510727, 0.04098535422616973, 0.008054715157939311, 0.010264471999667367, 0.007474278805999057, 0.009601550633179126, -0.0014695890495387512, -0.003536633284986857, 0.005898031431816266, -0.015156724457036913, -0.021950652481476086, -0.036291882803342196, -0.0051349715234583525, -0.009303494603102584, 0.0013245109287983597, 0.006481832509940059, 0.0009695862718606427, 0.0068034381171948426, -0.01279441815286253, -0.01149900349780537, -0.014120154619788465, 0.0036590003920798073, -0.010913278225939125, -0.009717132220476562, -0.01883520454967823, -0.0299757853881314, -0.022258298224170733, -0.009796009172402574, 0.008316875144915043, 0.01592995887712867, 0.019057603050960555, 0.007451763228345247, 0.026028290023922478, 0.029558694081706, 0.02891230421693618, 0.03289133617917966, 0.03261077778588368, 0.01592024059477892, 0.01599345989209066, 0.025692119705064135, 0.0272629956936922, 0.040155410502206924, 0.04370605295964369, 0.04945030097530516, 0.07363087657886977, 0.07967894093929107, 0.09930100049443158, 0.10724821070535896], 'rolling_rank_ic': [0.025468170809520244, 0.022367071666767203, 0.024742479422995935, 0.016619233832445044, 0.0040792528128887956, -0.0023668862739651413, 0.006687252142844026, 0.006142239076473179, 0.005057560019806602, 0.006306683565195531, -0.013186844226637188, -0.013789481390813237, -0.010003531085429975, -0.011319314420649354, -0.006093903360155109, -0.011290188004181663, -0.012239443196198282, -0.022567386269690178, -0.024965934177829736, -0.030189289309861016, -0.024183252045122432, -0.025601414966706825, -0.01957372142005479, -0.014268579429366251, -0.02479566661604766, -0.021626449201048475, -0.02863563145328849, -0.03404935484264289, -0.03393588333512025, -0.019751395296435867, -0.01930716435854398, -0.02387763373040458, -0.03410120949579545, -0.04055874523917778, -0.030932337181294574, -0.02337929693339728, -0.005239184995205378, -0.001175156648631393, 0.004507089216525, -0.006214706321140706, -0.00023481090351249023, 0.00864579734239523, 0.015651200891780345, 0.02088193555717193, 0.019039840042582596, 0.009213985822891605, 0.006583734958674533, 0.021820481054610402, 0.02243241817180375, 0.03666215379831368, 0.04487645208080317, 0.04867876137796961, 0.06440377760358844, 0.0707633118032772, 0.08462339106646259, 0.08812584630595614], 'cumsum_ic': array([0.03908967, 0.06885727, 0.10484625, 0.13265266, 0.1614403 ,\n",
      "       0.18234074, 0.20343004, 0.23642978, 0.27224884, 0.31323419,\n",
      "       0.32128891, 0.33155338, 0.33902766, 0.34862921, 0.34715962,\n",
      "       0.34362298, 0.34952102, 0.33436429, 0.31241364, 0.27612176,\n",
      "       0.27098678, 0.26168329, 0.2630078 , 0.26948963, 0.27045922,\n",
      "       0.27726266, 0.26446824, 0.25296924, 0.23884908, 0.24250808,\n",
      "       0.2315948 , 0.22187767, 0.20304247, 0.17306668, 0.15080838,\n",
      "       0.14101237, 0.14932925, 0.16525921, 0.18431681, 0.19176857,\n",
      "       0.21779686, 0.24735556, 0.27626786, 0.3091592 , 0.34176998,\n",
      "       0.35769022, 0.37368368, 0.3993758 , 0.42663879, 0.4667942 ,\n",
      "       0.51050026, 0.55995056, 0.63358143, 0.71326037, 0.81256138,\n",
      "       0.91980959]), 'cumsum_rank_ic': array([ 0.02546817,  0.04783524,  0.07257772,  0.08919696,  0.09327621,\n",
      "        0.09090932,  0.09759657,  0.10373881,  0.10879637,  0.11510306,\n",
      "        0.10191621,  0.08812673,  0.0781232 ,  0.06680389,  0.06070998,\n",
      "        0.04941979,  0.03718035,  0.01461297, -0.01035297, -0.04054226,\n",
      "       -0.06472551, -0.09032693, -0.10990065, -0.12416923, -0.14896489,\n",
      "       -0.17059134, -0.19922697, -0.23327633, -0.26721221, -0.28696361,\n",
      "       -0.30627077, -0.33014841, -0.36424961, -0.40480836, -0.4357407 ,\n",
      "       -0.45911999, -0.46435918, -0.46553434, -0.46102725, -0.46724195,\n",
      "       -0.46747676, -0.45883097, -0.44317977, -0.42229783, -0.40325799,\n",
      "       -0.394044  , -0.38746027, -0.36563979, -0.34320737, -0.30654522,\n",
      "       -0.26166876, -0.21299   , -0.14858622, -0.07782291,  0.00680048,\n",
      "        0.09492632]), 'window_centers': [Timestamp('2022-01-13 04:00:00'), Timestamp('2022-02-03 00:00:00'), Timestamp('2022-02-23 20:00:00'), Timestamp('2022-03-16 16:00:00'), Timestamp('2022-04-06 12:00:00'), Timestamp('2022-04-27 08:00:00'), Timestamp('2022-05-18 04:00:00'), Timestamp('2022-06-08 00:00:00'), Timestamp('2022-06-28 20:00:00'), Timestamp('2022-07-19 16:00:00'), Timestamp('2022-08-09 12:00:00'), Timestamp('2022-08-30 08:00:00'), Timestamp('2022-09-20 04:00:00'), Timestamp('2022-10-11 00:00:00'), Timestamp('2022-10-31 20:00:00'), Timestamp('2022-11-21 16:00:00'), Timestamp('2022-12-12 12:00:00'), Timestamp('2023-01-02 08:00:00'), Timestamp('2023-01-23 04:00:00'), Timestamp('2023-02-13 00:00:00'), Timestamp('2023-03-05 20:00:00'), Timestamp('2023-03-26 16:00:00'), Timestamp('2023-04-16 12:00:00'), Timestamp('2023-05-07 08:00:00'), Timestamp('2023-05-28 04:00:00'), Timestamp('2023-06-18 00:00:00'), Timestamp('2023-07-08 20:00:00'), Timestamp('2023-07-29 16:00:00'), Timestamp('2023-08-19 12:00:00'), Timestamp('2023-09-09 08:00:00'), Timestamp('2023-09-30 04:00:00'), Timestamp('2023-10-21 00:00:00'), Timestamp('2023-11-10 20:00:00'), Timestamp('2023-12-01 16:00:00'), Timestamp('2023-12-22 12:00:00'), Timestamp('2024-01-12 08:00:00'), Timestamp('2024-02-02 04:00:00'), Timestamp('2024-02-23 00:00:00'), Timestamp('2024-03-14 20:00:00'), Timestamp('2024-04-04 16:00:00'), Timestamp('2024-04-25 12:00:00'), Timestamp('2024-05-16 08:00:00'), Timestamp('2024-06-06 04:00:00'), Timestamp('2024-06-27 00:00:00'), Timestamp('2024-07-17 20:00:00'), Timestamp('2024-08-07 16:00:00'), Timestamp('2024-08-28 12:00:00'), Timestamp('2024-09-18 08:00:00'), Timestamp('2024-10-09 04:00:00'), Timestamp('2024-10-30 00:00:00'), Timestamp('2024-11-19 20:00:00'), Timestamp('2024-12-10 16:00:00'), Timestamp('2024-12-31 12:00:00'), Timestamp('2025-01-21 08:00:00'), Timestamp('2025-02-11 04:00:00'), Timestamp('2025-03-04 00:00:00')], 'initial_window': 20000, 'rolling_step': 2000}}\n"
     ]
    }
   ],
   "source": [
    "print(result)"
   ]
  }
 ],
 "metadata": {
  "kernelspec": {
   "display_name": "cta_v1",
   "language": "python",
   "name": "python3"
  },
  "language_info": {
   "codemirror_mode": {
    "name": "ipython",
    "version": 3
   },
   "file_extension": ".py",
   "mimetype": "text/x-python",
   "name": "python",
   "nbconvert_exporter": "python",
   "pygments_lexer": "ipython3",
   "version": "3.11.13"
  }
 },
 "nbformat": 4,
 "nbformat_minor": 5
}
